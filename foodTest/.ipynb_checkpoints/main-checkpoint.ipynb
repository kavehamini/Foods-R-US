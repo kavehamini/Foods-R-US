{
 "cells": [
  {
   "cell_type": "code",
   "execution_count": 20,
   "metadata": {},
   "outputs": [],
   "source": [
    "import json\n",
    "import os,requests"
   ]
  },
  {
   "cell_type": "code",
   "execution_count": 24,
   "metadata": {},
   "outputs": [],
   "source": [
    "term = 'Restaurants '\n",
    "location = 'Toronto'\n",
    "SEARCH_LIMIT = 20"
   ]
  },
  {
   "cell_type": "code",
   "execution_count": 25,
   "metadata": {},
   "outputs": [],
   "source": [
    "url = 'https://api.yelp.com/v3/businesses/search'\n",
    "\n",
    "headers = {\n",
    "        'Authorization': 'Bearer {}'.format(\"api_key\"),\n",
    "    }\n",
    "\n",
    "url_params = {\n",
    "                'term': term.replace(' ', '+'),\n",
    "                'location': location.replace(' ', '+'),\n",
    "                'limit': SEARCH_LIMIT\n",
    "            }"
   ]
  },
  {
   "cell_type": "code",
   "execution_count": 26,
   "metadata": {},
   "outputs": [],
   "source": [
    "response = requests.get(url, headers=headers, params=url_params)\n"
   ]
  },
  {
   "cell_type": "code",
   "execution_count": 37,
   "metadata": {},
   "outputs": [
    {
     "name": "stdout",
     "output_type": "stream",
     "text": [
      "<Response [200]>\n",
      "<class 'str'>\n",
      "{\"businesses\": [{\"id\": \"7UBOtHkr8dd1glP634Kkjw\", \"alias\": \"eataly-toronto-3\", \"name\": \"Eataly\", \"image_url\": \"https://s3-media1.fl.yelpcdn.com/bphoto/-yHitTMVMgsLElhxgsG1ZA/o.jpg\", \"is_closed\": false, \"url\": \"https://www.yelp.com/biz/eataly-toronto-3?adjust_creative=7XIiaRJ_izN-Q5jpSswUQA&utm_campaign=yelp_api_v3&utm_medium=api_v3_business_search&utm_source=7XIiaRJ_izN-Q5jpSswUQA\", \"review_count\": 123, \"categories\": [{\"alias\": \"italian\", \"title\": \"Italian\"}, {\"alias\": \"cheese\", \"title\": \"Cheese Shops\"}, {\"alias\": \"pizza\", \"title\": \"Pizza\"}], \"rating\": 3.5, \"coordinates\": {\"latitude\": 43.6696154170451, \"longitude\": -79.3887948598768}, \"transactions\": [], \"price\": \"$$\", \"location\": {\"address1\": \"55 Bloor Street W\", \"address2\": \"\", \"address3\": \"Manulife Centre\", \"city\": \"Toronto\", \"zip_code\": \"M4W 1A6\", \"country\": \"CA\", \"state\": \"ON\", \"display_address\": [\"55 Bloor Street W\", \"Manulife Centre\", \"Toronto, ON M4W 1A6\", \"Canada\"]}, \"phone\": \"+14373740250\", \"display_phone\": \"+1 437-374-0250\", \"distance\": 828.1659985341682}, {\"id\": \"RG4NphZCi8Pw6Ei-g6oaqg\", \"alias\": \"steam-whistle-brewing-toronto\", \"name\": \"Steam Whistle Brewing\", \"image_url\": \"https://s3-media3.fl.yelpcdn.com/bphoto/-6hgl9o9d2Qr4ZXNwPKoGA/o.jpg\", \"is_closed\": false, \"url\": \"https://www.yelp.com/biz/steam-whistle-brewing-toronto?adjust_creative=7XIiaRJ_izN-Q5jpSswUQA&utm_campaign=yelp_api_v3&utm_medium=api_v3_business_search&utm_source=7XIiaRJ_izN-Q5jpSswUQA\", \"review_count\": 353, \"categories\": [{\"alias\": \"breweries\", \"title\": \"Breweries\"}], \"rating\": 4.5, \"coordinates\": {\"latitude\": 43.6411408794168, \"longitude\": -79.3852350950461}, \"transactions\": [], \"price\": \"$$\", \"location\": {\"address1\": \"255 Bremner Boulevard\", \"address2\": \"\", \"address3\": \"\", \"city\": \"Toronto\", \"zip_code\": \"M5V 3M9\", \"country\": \"CA\", \"state\": \"ON\", \"display_address\": [\"255 Bremner Boulevard\", \"Toronto, ON M5V 3M9\", \"Canada\"]}, \"phone\": \"+14163622337\", \"display_phone\": \"+1 416-362-2337\", \"distance\": 3801.1398894291374}, {\"id\": \"aEoNNQxqvbSnXv65GrhBeQ\", \"alias\": \"taros-fish-toronto\", \"name\": \"Taro's Fish\", \"image_url\": \"https://s3-media1.fl.yelpcdn.com/bphoto/oYJHgNn6oxjBuNfIP5X5Hg/o.jpg\", \"is_closed\": false, \"url\": \"https://www.yelp.com/biz/taros-fish-toronto?adjust_creative=7XIiaRJ_izN-Q5jpSswUQA&utm_campaign=yelp_api_v3&utm_medium=api_v3_business_search&utm_source=7XIiaRJ_izN-Q5jpSswUQA\", \"review_count\": 169, \"categories\": [{\"alias\": \"seafoodmarkets\", \"title\": \"Seafood Markets\"}], \"rating\": 4.5, \"coordinates\": {\"latitude\": 43.76986, \"longitude\": -79.37455}, \"transactions\": [], \"price\": \"$$\", \"location\": {\"address1\": \"800 Sheppard Avenue E\", \"address2\": \"\", \"address3\": \"\", \"city\": \"Toronto\", \"zip_code\": \"M2K 1C3\", \"country\": \"CA\", \"state\": \"ON\", \"display_address\": [\"800 Sheppard Avenue E\", \"Toronto, ON M2K 1C3\", \"Canada\"]}, \"phone\": \"+14167308555\", \"display_phone\": \"+1 416-730-8555\", \"distance\": 10812.193344984604}, {\"id\": \"Ft1VEvqHNUYhObROEksa9Q\", \"alias\": \"park-snacks-toronto\", \"name\": \"Park Snacks\", \"image_url\": \"https://s3-media2.fl.yelpcdn.com/bphoto/fjDJkI0RgYjboBFnJnc6gA/o.jpg\", \"is_closed\": false, \"url\": \"https://www.yelp.com/biz/park-snacks-toronto?adjust_creative=7XIiaRJ_izN-Q5jpSswUQA&utm_campaign=yelp_api_v3&utm_medium=api_v3_business_search&utm_source=7XIiaRJ_izN-Q5jpSswUQA\", \"review_count\": 6, \"categories\": [{\"alias\": \"icecream\", \"title\": \"Ice Cream & Frozen Yogurt\"}], \"rating\": 4.0, \"coordinates\": {\"latitude\": 43.6669006, \"longitude\": -79.3631592}, \"transactions\": [], \"price\": \"$$\", \"location\": {\"address1\": \"161 Winchester Street\", \"address2\": null, \"address3\": \"\", \"city\": \"Toronto\", \"zip_code\": \"M4X 1B5\", \"country\": \"CA\", \"state\": \"ON\", \"display_address\": [\"161 Winchester Street\", \"Toronto, ON M4X 1B5\", \"Canada\"]}, \"phone\": \"+16476686787\", \"display_phone\": \"+1 647-668-6787\", \"distance\": 2828.175246189599}, {\"id\": \"LYb2yOaVk4Ka_N4qt0gFsQ\", \"alias\": \"northern-maverick-brewing-co-toronto\", \"name\": \"Northern Maverick Brewing Co\", \"image_url\": \"https://s3-media3.fl.yelpcdn.com/bphoto/ewP5_26xp00g0fXDYTYZNA/o.jpg\", \"is_closed\": false, \"url\": \"https://www.yelp.com/biz/northern-maverick-brewing-co-toronto?adjust_creative=7XIiaRJ_izN-Q5jpSswUQA&utm_campaign=yelp_api_v3&utm_medium=api_v3_business_search&utm_source=7XIiaRJ_izN-Q5jpSswUQA\", \"review_count\": 100, \"categories\": [{\"alias\": \"brewpubs\", \"title\": \"Brewpubs\"}], \"rating\": 3.5, \"coordinates\": {\"latitude\": 43.6450941, \"longitude\": -79.4029665}, \"transactions\": [], \"price\": \"$$\", \"location\": {\"address1\": \"115 Bathurst Street\", \"address2\": null, \"address3\": \"\", \"city\": \"Toronto\", \"zip_code\": \"M5V 2R1\", \"country\": \"CA\", \"state\": \"ON\", \"display_address\": [\"115 Bathurst Street\", \"Toronto, ON M5V 2R1\", \"Canada\"]}, \"phone\": \"+14165404030\", \"display_phone\": \"+1 416-540-4030\", \"distance\": 3291.746848277137}, {\"id\": \"r_BrIgzYcwo1NAuG9dLbpg\", \"alias\": \"pai-northern-thai-kitchen-toronto-5\", \"name\": \"Pai Northern Thai Kitchen\", \"image_url\": \"https://s3-media3.fl.yelpcdn.com/bphoto/t-g4d_vCAgZH_6pCqjaYWQ/o.jpg\", \"is_closed\": false, \"url\": \"https://www.yelp.com/biz/pai-northern-thai-kitchen-toronto-5?adjust_creative=7XIiaRJ_izN-Q5jpSswUQA&utm_campaign=yelp_api_v3&utm_medium=api_v3_business_search&utm_source=7XIiaRJ_izN-Q5jpSswUQA\", \"review_count\": 2807, \"categories\": [{\"alias\": \"thai\", \"title\": \"Thai\"}], \"rating\": 4.5, \"coordinates\": {\"latitude\": 43.64784, \"longitude\": -79.38872}, \"transactions\": [], \"price\": \"$$\", \"location\": {\"address1\": \"18 Duncan Street\", \"address2\": \"\", \"address3\": \"\", \"city\": \"Toronto\", \"zip_code\": \"M5H 3G8\", \"country\": \"CA\", \"state\": \"ON\", \"display_address\": [\"18 Duncan Street\", \"Toronto, ON M5H 3G8\", \"Canada\"]}, \"phone\": \"+14169014724\", \"display_phone\": \"+1 416-901-4724\", \"distance\": 3009.3347434869856}, {\"id\": \"73_UT7fZ7mzXcguX8-oSuQ\", \"alias\": \"amsterdam-brewhouse-toronto\", \"name\": \"Amsterdam BrewHouse\", \"image_url\": \"https://s3-media2.fl.yelpcdn.com/bphoto/FS4ClT8TDNjlnUdIz_PFKw/o.jpg\", \"is_closed\": false, \"url\": \"https://www.yelp.com/biz/amsterdam-brewhouse-toronto?adjust_creative=7XIiaRJ_izN-Q5jpSswUQA&utm_campaign=yelp_api_v3&utm_medium=api_v3_business_search&utm_source=7XIiaRJ_izN-Q5jpSswUQA\", \"review_count\": 680, \"categories\": [{\"alias\": \"breweries\", \"title\": \"Breweries\"}], \"rating\": 3.5, \"coordinates\": {\"latitude\": 43.6379121284171, \"longitude\": -79.3847308982186}, \"transactions\": [], \"price\": \"$$\", \"location\": {\"address1\": \"245 Queens Quay W\", \"address2\": \"\", \"address3\": \"\", \"city\": \"Toronto\", \"zip_code\": \"M5J 2K9\", \"country\": \"CA\", \"state\": \"ON\", \"display_address\": [\"245 Queens Quay W\", \"Toronto, ON M5J 2K9\", \"Canada\"]}, \"phone\": \"+14165041020\", \"display_phone\": \"+1 416-504-1020\", \"distance\": 4159.437910450155}, {\"id\": \"t_pJZlQjUVufoVF-DxvQNg\", \"alias\": \"mill-street-retail-store-toronto\", \"name\": \"Mill Street Retail Store\", \"image_url\": \"https://s3-media2.fl.yelpcdn.com/bphoto/Fc2bld4lzmnUuJXJGB6OYQ/o.jpg\", \"is_closed\": false, \"url\": \"https://www.yelp.com/biz/mill-street-retail-store-toronto?adjust_creative=7XIiaRJ_izN-Q5jpSswUQA&utm_campaign=yelp_api_v3&utm_medium=api_v3_business_search&utm_source=7XIiaRJ_izN-Q5jpSswUQA\", \"review_count\": 3, \"categories\": [{\"alias\": \"beer_and_wine\", \"title\": \"Beer, Wine & Spirits\"}], \"rating\": 4.5, \"coordinates\": {\"latitude\": 43.6504424511321, \"longitude\": -79.3584427521102}, \"transactions\": [], \"price\": \"$$\", \"location\": {\"address1\": \"55 Mill St\", \"address2\": \"Bldg 63\", \"address3\": \"\", \"city\": \"Toronto\", \"zip_code\": \"M5A 3C4\", \"country\": \"CA\", \"state\": \"ON\", \"display_address\": [\"55 Mill St\", \"Bldg 63\", \"Toronto, ON M5A 3C4\", \"Canada\"]}, \"phone\": \"+14166810338\", \"display_phone\": \"+1 416-681-0338\", \"distance\": 4069.0370398847194}, {\"id\": \"51TWLeQ-Em-y2XNk--G7Fg\", \"alias\": \"p\\u014dpa-toronto\", \"name\": \"P\\u014cPA\", \"image_url\": \"https://s3-media3.fl.yelpcdn.com/bphoto/rM0DHM_8Pft51nxoxclI8g/o.jpg\", \"is_closed\": false, \"url\": \"https://www.yelp.com/biz/p%C5%8Dpa-toronto?adjust_creative=7XIiaRJ_izN-Q5jpSswUQA&utm_campaign=yelp_api_v3&utm_medium=api_v3_business_search&utm_source=7XIiaRJ_izN-Q5jpSswUQA\", \"review_count\": 5, \"categories\": [{\"alias\": \"burmese\", \"title\": \"Burmese\"}], \"rating\": 4.5, \"coordinates\": {\"latitude\": 43.76922, \"longitude\": -79.38833}, \"transactions\": [], \"location\": {\"address1\": \"2901 Bayview Avenue\", \"address2\": \"\", \"address3\": null, \"city\": \"Toronto\", \"zip_code\": \"M2K 1E6\", \"country\": \"CA\", \"state\": \"ON\", \"display_address\": [\"2901 Bayview Avenue\", \"Toronto, ON M2K 1E6\", \"Canada\"]}, \"phone\": \"\", \"display_phone\": \"\", \"distance\": 10509.055412554411}, {\"id\": \"bFNnl4yFi2O06s55T71a3Q\", \"alias\": \"chef-and-somm-toronto\", \"name\": \"Chef & Somm\", \"image_url\": \"https://s3-media3.fl.yelpcdn.com/bphoto/yLcqgRDSb1g21BNnsLv2vg/o.jpg\", \"is_closed\": false, \"url\": \"https://www.yelp.com/biz/chef-and-somm-toronto?adjust_creative=7XIiaRJ_izN-Q5jpSswUQA&utm_campaign=yelp_api_v3&utm_medium=api_v3_business_search&utm_source=7XIiaRJ_izN-Q5jpSswUQA\", \"review_count\": 3, \"categories\": [{\"alias\": \"catering\", \"title\": \"Caterers\"}, {\"alias\": \"personalchefs\", \"title\": \"Personal Chefs\"}], \"rating\": 5.0, \"coordinates\": {\"latitude\": 43.7313984461704, \"longitude\": -79.46578048617}, \"transactions\": [], \"location\": {\"address1\": \"804B Wilson Avenue\", \"address2\": null, \"address3\": \"\", \"city\": \"Toronto\", \"zip_code\": \"M3K 1E5\", \"country\": \"CA\", \"state\": \"ON\", \"display_address\": [\"804B Wilson Avenue\", \"Toronto, ON M3K 1E5\", \"Canada\"]}, \"phone\": \"+16472845530\", \"display_phone\": \"+1 647-284-5530\", \"distance\": 8430.067979292806}, {\"id\": \"WNnrNto5bLcamqzL5gZZCw\", \"alias\": \"silver-spoon-take-out-catering-scarborough\", \"name\": \"Silver Spoon Take Out Catering\", \"image_url\": \"https://s3-media3.fl.yelpcdn.com/bphoto/ctJUIyVzBvQOeWDJ88kOlg/o.jpg\", \"is_closed\": false, \"url\": \"https://www.yelp.com/biz/silver-spoon-take-out-catering-scarborough?adjust_creative=7XIiaRJ_izN-Q5jpSswUQA&utm_campaign=yelp_api_v3&utm_medium=api_v3_business_search&utm_source=7XIiaRJ_izN-Q5jpSswUQA\", \"review_count\": 42, \"categories\": [{\"alias\": \"catering\", \"title\": \"Caterers\"}], \"rating\": 3.0, \"coordinates\": {\"latitude\": 43.79149, \"longitude\": -79.25154}, \"transactions\": [], \"location\": {\"address1\": \"4800 Sheppard Avenue E\", \"address2\": \"\", \"address3\": \"\", \"city\": \"Scarborough\", \"zip_code\": \"M1S 4N5\", \"country\": \"CA\", \"state\": \"ON\", \"display_address\": [\"4800 Sheppard Avenue E\", \"Scarborough, ON M1S 4N5\", \"Canada\"]}, \"phone\": \"+14162932689\", \"display_phone\": \"+1 416-293-2689\", \"distance\": 17492.588641984374}, {\"id\": \"mw2TffuWp9kEDd4EPPZ4aw\", \"alias\": \"the-bedford-academy-toronto\", \"name\": \"The Bedford Academy\", \"image_url\": \"https://s3-media2.fl.yelpcdn.com/bphoto/FLYAeJaNoPkI6jr27WQ-QQ/o.jpg\", \"is_closed\": false, \"url\": \"https://www.yelp.com/biz/the-bedford-academy-toronto?adjust_creative=7XIiaRJ_izN-Q5jpSswUQA&utm_campaign=yelp_api_v3&utm_medium=api_v3_business_search&utm_source=7XIiaRJ_izN-Q5jpSswUQA\", \"review_count\": 113, \"categories\": [{\"alias\": \"pubs\", \"title\": \"Pubs\"}], \"rating\": 3.5, \"coordinates\": {\"latitude\": 43.66963, \"longitude\": -79.39719}, \"transactions\": [], \"price\": \"$$\", \"location\": {\"address1\": \"36 Prince Arthur Avenue\", \"address2\": \"\", \"address3\": \"\", \"city\": \"Toronto\", \"zip_code\": \"M5R 1A9\", \"country\": \"CA\", \"state\": \"ON\", \"display_address\": [\"36 Prince Arthur Avenue\", \"Toronto, ON M5R 1A9\", \"Canada\"]}, \"phone\": \"+14169214600\", \"display_phone\": \"+1 416-921-4600\", \"distance\": 520.6475551852774}, {\"id\": \"KpEu3vvj1ruoID0T3lmD4Q\", \"alias\": \"mira-toronto\", \"name\": \"Mira\", \"image_url\": \"https://s3-media1.fl.yelpcdn.com/bphoto/3yyCfxWhm7KChs1GIoG_NA/o.jpg\", \"is_closed\": false, \"url\": \"https://www.yelp.com/biz/mira-toronto?adjust_creative=7XIiaRJ_izN-Q5jpSswUQA&utm_campaign=yelp_api_v3&utm_medium=api_v3_business_search&utm_source=7XIiaRJ_izN-Q5jpSswUQA\", \"review_count\": 209, \"categories\": [{\"alias\": \"peruvian\", \"title\": \"Peruvian\"}], \"rating\": 4.5, \"coordinates\": {\"latitude\": 43.64417, \"longitude\": -79.39639}, \"transactions\": [], \"price\": \"$$\", \"location\": {\"address1\": \"420A Wellington Street W\", \"address2\": null, \"address3\": null, \"city\": \"Toronto\", \"zip_code\": \"M5V 1E3\", \"country\": \"CA\", \"state\": \"ON\", \"display_address\": [\"420A Wellington Street W\", \"Toronto, ON M5V 1E3\", \"Canada\"]}, \"phone\": \"+16479513331\", \"display_phone\": \"+1 647-951-3331\", \"distance\": 3359.763701463973}, {\"id\": \"B70iTJjcPkuYn8ouUewWgw\", \"alias\": \"gusto-101-toronto\", \"name\": \"Gusto 101\", \"image_url\": \"https://s3-media4.fl.yelpcdn.com/bphoto/AR6GLQy04dety7i4ffTH-g/o.jpg\", \"is_closed\": false, \"url\": \"https://www.yelp.com/biz/gusto-101-toronto?adjust_creative=7XIiaRJ_izN-Q5jpSswUQA&utm_campaign=yelp_api_v3&utm_medium=api_v3_business_search&utm_source=7XIiaRJ_izN-Q5jpSswUQA\", \"review_count\": 967, \"categories\": [{\"alias\": \"italian\", \"title\": \"Italian\"}], \"rating\": 4.0, \"coordinates\": {\"latitude\": 43.645002131066, \"longitude\": -79.400309337027}, \"transactions\": [], \"price\": \"$$\", \"location\": {\"address1\": \"101 Portland Street\", \"address2\": \"\", \"address3\": \"\", \"city\": \"Toronto\", \"zip_code\": \"M5V 2N3\", \"country\": \"CA\", \"state\": \"ON\", \"display_address\": [\"101 Portland Street\", \"Toronto, ON M5V 2N3\", \"Canada\"]}, \"phone\": \"+14165049669\", \"display_phone\": \"+1 416-504-9669\", \"distance\": 3267.8432435946374}, {\"id\": \"b959iSBSYuuhtiEmv6VIQA\", \"alias\": \"ontario-spring-water-sake-company-toronto\", \"name\": \"Ontario Spring Water Sake Company\", \"image_url\": \"https://s3-media2.fl.yelpcdn.com/bphoto/L_6UxMVH1apKi08BABSFMg/o.jpg\", \"is_closed\": false, \"url\": \"https://www.yelp.com/biz/ontario-spring-water-sake-company-toronto?adjust_creative=7XIiaRJ_izN-Q5jpSswUQA&utm_campaign=yelp_api_v3&utm_medium=api_v3_business_search&utm_source=7XIiaRJ_izN-Q5jpSswUQA\", \"review_count\": 74, \"categories\": [{\"alias\": \"breweries\", \"title\": \"Breweries\"}, {\"alias\": \"beertours\", \"title\": \"Beer Tours\"}], \"rating\": 4.5, \"coordinates\": {\"latitude\": 43.64989, \"longitude\": -79.36002}, \"transactions\": [], \"price\": \"$$\", \"location\": {\"address1\": \"51 Gristmill Lane\", \"address2\": \"\", \"address3\": \"\", \"city\": \"Toronto\", \"zip_code\": \"M5A 3C4\", \"country\": \"CA\", \"state\": \"ON\", \"display_address\": [\"51 Gristmill Lane\", \"Toronto, ON M5A 3C4\", \"Canada\"]}, \"phone\": \"+14163657253\", \"display_phone\": \"+1 416-365-7253\", \"distance\": 4014.9515859673224}, {\"id\": \"rgmlFQCjaLLNOyEQki_T8g\", \"alias\": \"wide-open-toronto\", \"name\": \"Wide Open\", \"image_url\": \"https://s3-media2.fl.yelpcdn.com/bphoto/d_5cdwliceP7DcC7Ay2dyQ/o.jpg\", \"is_closed\": false, \"url\": \"https://www.yelp.com/biz/wide-open-toronto?adjust_creative=7XIiaRJ_izN-Q5jpSswUQA&utm_campaign=yelp_api_v3&utm_medium=api_v3_business_search&utm_source=7XIiaRJ_izN-Q5jpSswUQA\", \"review_count\": 82, \"categories\": [{\"alias\": \"divebars\", \"title\": \"Dive Bars\"}, {\"alias\": \"musicvenues\", \"title\": \"Music Venues\"}], \"rating\": 3.5, \"coordinates\": {\"latitude\": 43.64759, \"longitude\": -79.39556}, \"transactions\": [], \"price\": \"$\", \"location\": {\"address1\": \"139A Spadina Avenue\", \"address2\": \"\", \"address3\": \"\", \"city\": \"Toronto\", \"zip_code\": \"M5V 2K8\", \"country\": \"CA\", \"state\": \"ON\", \"display_address\": [\"139A Spadina Avenue\", \"Toronto, ON M5V 2K8\", \"Canada\"]}, \"phone\": \"\", \"display_phone\": \"\", \"distance\": 2966.9657954681493}, {\"id\": \"1hn0ZKObNWsbr5XkR7tFoQ\", \"alias\": \"aburi-hana-toronto\", \"name\": \"Aburi Hana\", \"image_url\": \"https://s3-media2.fl.yelpcdn.com/bphoto/Ej4b-w0bkm6s2MGTS3fifw/o.jpg\", \"is_closed\": false, \"url\": \"https://www.yelp.com/biz/aburi-hana-toronto?adjust_creative=7XIiaRJ_izN-Q5jpSswUQA&utm_campaign=yelp_api_v3&utm_medium=api_v3_business_search&utm_source=7XIiaRJ_izN-Q5jpSswUQA\", \"review_count\": 1, \"categories\": [{\"alias\": \"sushi\", \"title\": \"Sushi Bars\"}, {\"alias\": \"japanese\", \"title\": \"Japanese\"}], \"rating\": 5.0, \"coordinates\": {\"latitude\": 43.671011, \"longitude\": -79.3925961}, \"transactions\": [], \"location\": {\"address1\": \"102 Yorkville Avenue\", \"address2\": \"Unit 4\", \"address3\": \"\", \"city\": \"Toronto\", \"zip_code\": \"M5R 1B9\", \"country\": \"CA\", \"state\": \"ON\", \"display_address\": [\"102 Yorkville Avenue\", \"Unit 4\", \"Toronto, ON M5R 1B9\", \"Canada\"]}, \"phone\": \"+16473438887\", \"display_phone\": \"+1 647-343-8887\", \"distance\": 497.6931787092152}, {\"id\": \"ocLnCE2E29j-CoBQj1yaSA\", \"alias\": \"cafe-landwer-toronto\", \"name\": \"Cafe Landwer\", \"image_url\": \"https://s3-media2.fl.yelpcdn.com/bphoto/c32JGrsXAdZxJHmRbPf-pg/o.jpg\", \"is_closed\": false, \"url\": \"https://www.yelp.com/biz/cafe-landwer-toronto?adjust_creative=7XIiaRJ_izN-Q5jpSswUQA&utm_campaign=yelp_api_v3&utm_medium=api_v3_business_search&utm_source=7XIiaRJ_izN-Q5jpSswUQA\", \"review_count\": 284, \"categories\": [{\"alias\": \"cafes\", \"title\": \"Cafes\"}, {\"alias\": \"breakfast_brunch\", \"title\": \"Breakfast & Brunch\"}, {\"alias\": \"mediterranean\", \"title\": \"Mediterranean\"}], \"rating\": 4.0, \"coordinates\": {\"latitude\": 43.64875, \"longitude\": -79.38491}, \"transactions\": [\"restaurant_reservation\"], \"price\": \"$$\", \"location\": {\"address1\": \"165 University Avenue\", \"address2\": \"\", \"address3\": null, \"city\": \"Toronto\", \"zip_code\": \"M5H 3B8\", \"country\": \"CA\", \"state\": \"ON\", \"display_address\": [\"165 University Avenue\", \"Toronto, ON M5H 3B8\", \"Canada\"]}, \"phone\": \"+16477481165\", \"display_phone\": \"+1 647-748-1165\", \"distance\": 2990.4805472070702}, {\"id\": \"J9vAdD2dCpFuGsxPIn184w\", \"alias\": \"new-orleans-seafood-and-steakhouse-toronto\", \"name\": \"New Orleans Seafood & Steakhouse\", \"image_url\": \"https://s3-media2.fl.yelpcdn.com/bphoto/bw77wio_ZXCbZ8-XJvuVKw/o.jpg\", \"is_closed\": false, \"url\": \"https://www.yelp.com/biz/new-orleans-seafood-and-steakhouse-toronto?adjust_creative=7XIiaRJ_izN-Q5jpSswUQA&utm_campaign=yelp_api_v3&utm_medium=api_v3_business_search&utm_source=7XIiaRJ_izN-Q5jpSswUQA\", \"review_count\": 127, \"categories\": [{\"alias\": \"seafood\", \"title\": \"Seafood\"}, {\"alias\": \"cajun\", \"title\": \"Cajun/Creole\"}, {\"alias\": \"steak\", \"title\": \"Steakhouses\"}], \"rating\": 5.0, \"coordinates\": {\"latitude\": 43.67775, \"longitude\": -79.50611}, \"transactions\": [], \"price\": \"$$$\", \"location\": {\"address1\": \"267 Scarlett Road\", \"address2\": \"\", \"address3\": \"\", \"city\": \"Toronto\", \"zip_code\": \"M6N 4L1\", \"country\": \"CA\", \"state\": \"ON\", \"display_address\": [\"267 Scarlett Road\", \"Toronto, ON M6N 4L1\", \"Canada\"]}, \"phone\": \"+14167667001\", \"display_phone\": \"+1 416-766-7001\", \"distance\": 8808.874824264869}, {\"id\": \"Nvj_rKyKainH4QDPU59AIg\", \"alias\": \"elle-cuisine-toronto\", \"name\": \"Elle Cuisine\", \"image_url\": \"https://s3-media1.fl.yelpcdn.com/bphoto/SqjIhwNLNdSUX14NUbTw0g/o.jpg\", \"is_closed\": false, \"url\": \"https://www.yelp.com/biz/elle-cuisine-toronto?adjust_creative=7XIiaRJ_izN-Q5jpSswUQA&utm_campaign=yelp_api_v3&utm_medium=api_v3_business_search&utm_source=7XIiaRJ_izN-Q5jpSswUQA\", \"review_count\": 5, \"categories\": [{\"alias\": \"catering\", \"title\": \"Caterers\"}, {\"alias\": \"eventplanning\", \"title\": \"Party & Event Planning\"}], \"rating\": 5.0, \"coordinates\": {\"latitude\": 43.6735113, \"longitude\": -79.351375}, \"transactions\": [], \"location\": {\"address1\": \"56 Hampton Avenue\", \"address2\": \"\", \"address3\": \"\", \"city\": \"Toronto\", \"zip_code\": \"M4K 2Y6\", \"country\": \"CA\", \"state\": \"ON\", \"display_address\": [\"56 Hampton Avenue\", \"Toronto, ON M4K 2Y6\", \"Canada\"]}, \"phone\": \"+16474303553\", \"display_phone\": \"+1 647-430-3553\", \"distance\": 3655.9322640701885}], \"total\": 6900, \"region\": {\"center\": {\"longitude\": -79.39682006835938, \"latitude\": 43.67428196976998}}}\n"
     ]
    }
   ],
   "source": [
    "print(response)\n",
    "print(type(response.text))\n",
    "print(response.text)"
   ]
  },
  {
   "cell_type": "code",
   "execution_count": null,
   "metadata": {},
   "outputs": [],
   "source": []
  },
  {
   "cell_type": "code",
   "execution_count": null,
   "metadata": {},
   "outputs": [],
   "source": []
  },
  {
   "cell_type": "code",
   "execution_count": null,
   "metadata": {},
   "outputs": [],
   "source": []
  },
  {
   "cell_type": "code",
   "execution_count": null,
   "metadata": {},
   "outputs": [],
   "source": []
  }
 ],
 "metadata": {
  "kernelspec": {
   "display_name": "Python 3",
   "language": "python",
   "name": "python3"
  },
  "language_info": {
   "codemirror_mode": {
    "name": "ipython",
    "version": 3
   },
   "file_extension": ".py",
   "mimetype": "text/x-python",
   "name": "python",
   "nbconvert_exporter": "python",
   "pygments_lexer": "ipython3",
   "version": "3.6.9"
  },
  "nteract": {
   "version": "0.12.3"
  }
 },
 "nbformat": 4,
 "nbformat_minor": 2
}
