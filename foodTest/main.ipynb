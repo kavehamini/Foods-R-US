{
 "cells": [
  {
   "cell_type": "code",
   "execution_count": 210,
   "metadata": {},
   "outputs": [],
   "source": [
    "import json\n",
    "import os,requests\n",
    "import pymongo\n",
    "import pandas as pd\n",
    "from sqlalchemy import create_engine,inspect, func\n",
    "import psycopg2"
   ]
  },
  {
   "cell_type": "code",
   "execution_count": 82,
   "metadata": {},
   "outputs": [],
   "source": [
    "term = 'Restaurants '\n",
    "location = 'Toronto'\n",
    "SEARCH_LIMIT = 50"
   ]
  },
  {
   "cell_type": "code",
   "execution_count": 178,
   "metadata": {},
   "outputs": [],
   "source": [
    "url = 'https://api.yelp.com/v3/businesses/search'\n",
    "\n",
    "headers = {\n",
    "        'Authorization': 'Bearer {}'.format(\"tjoCWV1N7vncjx7yQkbRj8sa_V35ENjRSgetql-asev5rmOrqCjQEjVISjMN191l5KbOvmJfHz2u6Y-ch8agkzJ-46qeM8R2lMfrqZoLBTk02d4zHSi8QkhY9rY4XnYx\"),\n",
    "    }\n",
    "\n",
    "url_params = {\n",
    "                'term': term.replace(' ', '+'),\n",
    "                'location': location.replace(' ', '+'),\n",
    "                'limit': SEARCH_LIMIT,\n",
    "                'offset':949\n",
    "            }"
   ]
  },
  {
   "cell_type": "code",
   "execution_count": 179,
   "metadata": {},
   "outputs": [],
   "source": [
    "response = requests.get(url, headers=headers, params=url_params)\n",
    "\n"
   ]
  },
  {
   "cell_type": "code",
   "execution_count": 180,
   "metadata": {},
   "outputs": [
    {
     "name": "stdout",
     "output_type": "stream",
     "text": [
      "<Response [200]>\n",
      "<class 'str'>\n",
      "{\"businesses\": [{\"id\": \"dp6Cb_S8uCzZK_h5tpq_Kg\", \"alias\": \"paracas-peruvian-toronto\", \"name\": \"Paracas Peruvian\", \"image_url\": \"https://s3-media3.fl.yelpcdn.com/bphoto/657voTDXMq989Id-ZiG5Ug/o.jpg\", \"is_closed\": false, \"url\": \"https://www.yelp.com/biz/paracas-peruvian-toronto?adjust_creative=7XIiaRJ_izN-Q5jpSswUQA&utm_campaign=yelp_api_v3&utm_medium=api_v3_business_search&utm_source=7XIiaRJ_izN-Q5jpSswUQA\", \"review_count\": 22, \"categories\": [{\"alias\": \"peruvian\", \"title\": \"Peruvian\"}], \"rating\": 3.5, \"coordinates\": {\"latitude\": 43.6794411, \"longitude\": -79.436944}, \"transactions\": [], \"price\": \"$$\", \"location\": {\"address1\": \"992 St.Clair Avenue W\", \"address2\": null, \"address3\": \"\", \"city\": \"Toronto\", \"zip_code\": \"M6E 1A2\", \"country\": \"CA\", \"state\": \"ON\", \"display_address\": [\"992 St.Clair Avenue W\", \"Toronto, ON M6E 1A2\", \"Canada\"]}, \"phone\": \"+14165325627\", \"display_phone\": \"+1 416-532-5627\", \"distance\": 3277.41216038259}, {\"id\": \"JOoblYsQjFT-47tkt6om0A\", \"alias\": \"7-west-cafe-toronto\", \"name\": \"7 West Cafe\", \"image_url\": \"https://s3-media1.fl.yelpcdn.com/bphoto/_cwg3ACC-L2zYecum18OLQ/o.jpg\", \"is_closed\": false, \"url\": \"https://www.yelp.com/biz/7-west-cafe-toronto?adjust_creative=7XIiaRJ_izN-Q5jpSswUQA&utm_campaign=yelp_api_v3&utm_medium=api_v3_business_search&utm_source=7XIiaRJ_izN-Q5jpSswUQA\", \"review_count\": 386, \"categories\": [{\"alias\": \"italian\", \"title\": \"Italian\"}, {\"alias\": \"breakfast_brunch\", \"title\": \"Breakfast & Brunch\"}, {\"alias\": \"bars\", \"title\": \"Bars\"}], \"rating\": 3.5, \"coordinates\": {\"latitude\": 43.6685661933329, \"longitude\": -79.3865257501602}, \"transactions\": [], \"price\": \"$$\", \"location\": {\"address1\": \"7 Charles Street W\", \"address2\": \"\", \"address3\": \"\", \"city\": \"Toronto\", \"zip_code\": \"M4Y 1R4\", \"country\": \"CA\", \"state\": \"ON\", \"display_address\": [\"7 Charles Street W\", \"Toronto, ON M4Y 1R4\", \"Canada\"]}, \"phone\": \"+14169289041\", \"display_phone\": \"+1 416-928-9041\", \"distance\": 1043.7693194801814}, {\"id\": \"GPK5oG-H6JUPo2a5hBxRBQ\", \"alias\": \"bodega-henriette-toronto-2\", \"name\": \"Bodega Henriette\", \"image_url\": \"https://s3-media4.fl.yelpcdn.com/bphoto/Sbjnb9aN--tXEjGqtEkkIQ/o.jpg\", \"is_closed\": false, \"url\": \"https://www.yelp.com/biz/bodega-henriette-toronto-2?adjust_creative=7XIiaRJ_izN-Q5jpSswUQA&utm_campaign=yelp_api_v3&utm_medium=api_v3_business_search&utm_source=7XIiaRJ_izN-Q5jpSswUQA\", \"review_count\": 50, \"categories\": [{\"alias\": \"bars\", \"title\": \"Bars\"}, {\"alias\": \"newcanadian\", \"title\": \"Canadian (New)\"}], \"rating\": 4.5, \"coordinates\": {\"latitude\": 43.6780199, \"longitude\": -79.31471}, \"transactions\": [], \"price\": \"$$\", \"location\": {\"address1\": \"1801 Gerrard Street E\", \"address2\": \"\", \"address3\": null, \"city\": \"Toronto\", \"zip_code\": \"M4L 2B4\", \"country\": \"CA\", \"state\": \"ON\", \"display_address\": [\"1801 Gerrard Street E\", \"Toronto, ON M4L 2B4\", \"Canada\"]}, \"phone\": \"+14165466261\", \"display_phone\": \"+1 416-546-6261\", \"distance\": 6611.632943061065}, {\"id\": \"Zkn1y0l3eDjzIONKMNl-ew\", \"alias\": \"storm-crow-manor-toronto-3\", \"name\": \"Storm Crow Manor\", \"image_url\": \"https://s3-media2.fl.yelpcdn.com/bphoto/C6UMboxkKw5dyJpqZzJouA/o.jpg\", \"is_closed\": false, \"url\": \"https://www.yelp.com/biz/storm-crow-manor-toronto-3?adjust_creative=7XIiaRJ_izN-Q5jpSswUQA&utm_campaign=yelp_api_v3&utm_medium=api_v3_business_search&utm_source=7XIiaRJ_izN-Q5jpSswUQA\", \"review_count\": 82, \"categories\": [{\"alias\": \"bars\", \"title\": \"Bars\"}], \"rating\": 4.0, \"coordinates\": {\"latitude\": 43.6667489584503, \"longitude\": -79.3816431239247}, \"transactions\": [], \"price\": \"$$\", \"location\": {\"address1\": \"580 Church Street\", \"address2\": \"\", \"address3\": null, \"city\": \"Toronto\", \"zip_code\": \"M4Y 2E5\", \"country\": \"CA\", \"state\": \"ON\", \"display_address\": [\"580 Church Street\", \"Toronto, ON M4Y 2E5\", \"Canada\"]}, \"phone\": \"+14163672769\", \"display_phone\": \"+1 416-367-2769\", \"distance\": 1480.4323253964028}, {\"id\": \"Iov02yUKZVj-Z3A3u37ExA\", \"alias\": \"river-tai-restaurant-toronto-2\", \"name\": \"River Tai Restaurant\", \"image_url\": \"https://s3-media1.fl.yelpcdn.com/bphoto/Jh59fKZEnAQ1dRaNaaUWUQ/o.jpg\", \"is_closed\": false, \"url\": \"https://www.yelp.com/biz/river-tai-restaurant-toronto-2?adjust_creative=7XIiaRJ_izN-Q5jpSswUQA&utm_campaign=yelp_api_v3&utm_medium=api_v3_business_search&utm_source=7XIiaRJ_izN-Q5jpSswUQA\", \"review_count\": 16, \"categories\": [{\"alias\": \"thai\", \"title\": \"Thai\"}, {\"alias\": \"chinese\", \"title\": \"Chinese\"}], \"rating\": 4.0, \"coordinates\": {\"latitude\": 43.66316, \"longitude\": -79.40309}, \"transactions\": [], \"price\": \"$\", \"location\": {\"address1\": \"92 Harbord Street\", \"address2\": \"\", \"address3\": \"\", \"city\": \"Toronto\", \"zip_code\": \"M5S 1G5\", \"country\": \"CA\", \"state\": \"ON\", \"display_address\": [\"92 Harbord Street\", \"Toronto, ON M5S 1G5\", \"Canada\"]}, \"phone\": \"+14169256305\", \"display_phone\": \"+1 416-925-6305\", \"distance\": 1353.3310760662666}, {\"id\": \"BYDs_o6U4CLxJec8k1Q90Q\", \"alias\": \"poke-guys-toronto\", \"name\": \"Poke Guys\", \"image_url\": \"https://s3-media1.fl.yelpcdn.com/bphoto/rVOpUM2YGC3siAuf7BPQPA/o.jpg\", \"is_closed\": false, \"url\": \"https://www.yelp.com/biz/poke-guys-toronto?adjust_creative=7XIiaRJ_izN-Q5jpSswUQA&utm_campaign=yelp_api_v3&utm_medium=api_v3_business_search&utm_source=7XIiaRJ_izN-Q5jpSswUQA\", \"review_count\": 341, \"categories\": [{\"alias\": \"hawaiian\", \"title\": \"Hawaiian\"}, {\"alias\": \"poke\", \"title\": \"Poke\"}], \"rating\": 4.0, \"coordinates\": {\"latitude\": 43.65484, \"longitude\": -79.38517}, \"transactions\": [], \"price\": \"$$\", \"location\": {\"address1\": \"112 Elizabeth Street\", \"address2\": \"Unit 1\", \"address3\": \"\", \"city\": \"Toronto\", \"zip_code\": \"M5G 1P5\", \"country\": \"CA\", \"state\": \"ON\", \"display_address\": [\"112 Elizabeth Street\", \"Unit 1\", \"Toronto, ON M5G 1P5\", \"Canada\"]}, \"phone\": \"+14165067653\", \"display_phone\": \"+1 416-506-7653\", \"distance\": 2358.3513154010575}, {\"id\": \"nrQi8Bh5GwuNDihbPJG5Sw\", \"alias\": \"scarlet-door-toronto\", \"name\": \"Scarlet Door\", \"image_url\": \"https://s3-media1.fl.yelpcdn.com/bphoto/dJNWyTj8IthIouFURUytkQ/o.jpg\", \"is_closed\": false, \"url\": \"https://www.yelp.com/biz/scarlet-door-toronto?adjust_creative=7XIiaRJ_izN-Q5jpSswUQA&utm_campaign=yelp_api_v3&utm_medium=api_v3_business_search&utm_source=7XIiaRJ_izN-Q5jpSswUQA\", \"review_count\": 3, \"categories\": [{\"alias\": \"cafes\", \"title\": \"Cafes\"}], \"rating\": 4.5, \"coordinates\": {\"latitude\": 43.66858, \"longitude\": -79.38537}, \"transactions\": [], \"location\": {\"address1\": \"15 Charles Street E\", \"address2\": \"\", \"address3\": null, \"city\": \"Toronto\", \"zip_code\": \"M4Y 1S1\", \"country\": \"CA\", \"state\": \"ON\", \"display_address\": [\"15 Charles Street E\", \"Toronto, ON M4Y 1S1\", \"Canada\"]}, \"phone\": \"+16474754436\", \"display_phone\": \"+1 647-475-4436\", \"distance\": 1128.6139829171086}, {\"id\": \"qNCt4Dx3S0R-n3x39mxxLw\", \"alias\": \"tilt-arcade-bar-toronto\", \"name\": \"Tilt Arcade Bar\", \"image_url\": \"https://s3-media3.fl.yelpcdn.com/bphoto/f9VpdFMKswM_rDQsNKK7Uw/o.jpg\", \"is_closed\": false, \"url\": \"https://www.yelp.com/biz/tilt-arcade-bar-toronto?adjust_creative=7XIiaRJ_izN-Q5jpSswUQA&utm_campaign=yelp_api_v3&utm_medium=api_v3_business_search&utm_source=7XIiaRJ_izN-Q5jpSswUQA\", \"review_count\": 81, \"categories\": [{\"alias\": \"arcades\", \"title\": \"Arcades\"}, {\"alias\": \"bars\", \"title\": \"Bars\"}], \"rating\": 4.5, \"coordinates\": {\"latitude\": 43.65182, \"longitude\": -79.40925}, \"transactions\": [], \"price\": \"$\", \"location\": {\"address1\": \"824 Dundas Street West\", \"address2\": null, \"address3\": \"\", \"city\": \"Toronto\", \"zip_code\": \"M6J 1V3\", \"country\": \"CA\", \"state\": \"ON\", \"display_address\": [\"824 Dundas Street West\", \"Toronto, ON M6J 1V3\", \"Canada\"]}, \"phone\": \"+14165518458\", \"display_phone\": \"+1 416-551-8458\", \"distance\": 2699.1330210331303}, {\"id\": \"JWAulPEbugeLBkV-G0oZIg\", \"alias\": \"pho-anh-vu-toronto\", \"name\": \"Pho Anh Vu\", \"image_url\": \"https://s3-media1.fl.yelpcdn.com/bphoto/sFHtFEZ-aVj2TT8ilT4kGQ/o.jpg\", \"is_closed\": false, \"url\": \"https://www.yelp.com/biz/pho-anh-vu-toronto?adjust_creative=7XIiaRJ_izN-Q5jpSswUQA&utm_campaign=yelp_api_v3&utm_medium=api_v3_business_search&utm_source=7XIiaRJ_izN-Q5jpSswUQA\", \"review_count\": 21, \"categories\": [{\"alias\": \"vietnamese\", \"title\": \"Vietnamese\"}], \"rating\": 4.0, \"coordinates\": {\"latitude\": 43.7183600176532, \"longitude\": -79.4573690012284}, \"transactions\": [], \"price\": \"$$\", \"location\": {\"address1\": \"3200 Dufferin Street\", \"address2\": \"\", \"address3\": null, \"city\": \"Toronto\", \"zip_code\": \"M6A 3B2\", \"country\": \"CA\", \"state\": \"ON\", \"display_address\": [\"3200 Dufferin Street\", \"Toronto, ON M6A 3B2\", \"Canada\"]}, \"phone\": \"+16473469333\", \"display_phone\": \"+1 647-346-9333\", \"distance\": 6907.828891436638}, {\"id\": \"KMEvwN9hzkBVUGXqKZWxoQ\", \"alias\": \"grill-gate-toronto-2\", \"name\": \"Grill Gate\", \"image_url\": \"https://s3-media4.fl.yelpcdn.com/bphoto/hcEn5DxxGVEn_PjKy85UzQ/o.jpg\", \"is_closed\": false, \"url\": \"https://www.yelp.com/biz/grill-gate-toronto-2?adjust_creative=7XIiaRJ_izN-Q5jpSswUQA&utm_campaign=yelp_api_v3&utm_medium=api_v3_business_search&utm_source=7XIiaRJ_izN-Q5jpSswUQA\", \"review_count\": 110, \"categories\": [{\"alias\": \"newcanadian\", \"title\": \"Canadian (New)\"}, {\"alias\": \"burgers\", \"title\": \"Burgers\"}, {\"alias\": \"sandwiches\", \"title\": \"Sandwiches\"}], \"rating\": 4.5, \"coordinates\": {\"latitude\": 43.75315, \"longitude\": -79.45165}, \"transactions\": [], \"price\": \"$$\", \"location\": {\"address1\": \"832 Sheppard Avenue W\", \"address2\": \"\", \"address3\": null, \"city\": \"Toronto\", \"zip_code\": \"M3H 2T3\", \"country\": \"CA\", \"state\": \"ON\", \"display_address\": [\"832 Sheppard Avenue W\", \"Toronto, ON M3H 2T3\", \"Canada\"]}, \"phone\": \"+14166311167\", \"display_phone\": \"+1 416-631-1167\", \"distance\": 9815.092974541622}, {\"id\": \"-dOjdFq-kFhQTrG-yLYc_w\", \"alias\": \"maple-leaf-tavern-toronto\", \"name\": \"Maple Leaf Tavern\", \"image_url\": \"https://s3-media2.fl.yelpcdn.com/bphoto/TmS9MId7tACVQkei1F1feQ/o.jpg\", \"is_closed\": false, \"url\": \"https://www.yelp.com/biz/maple-leaf-tavern-toronto?adjust_creative=7XIiaRJ_izN-Q5jpSswUQA&utm_campaign=yelp_api_v3&utm_medium=api_v3_business_search&utm_source=7XIiaRJ_izN-Q5jpSswUQA\", \"review_count\": 88, \"categories\": [{\"alias\": \"tradamerican\", \"title\": \"American (Traditional)\"}, {\"alias\": \"bars\", \"title\": \"Bars\"}, {\"alias\": \"breakfast_brunch\", \"title\": \"Breakfast & Brunch\"}], \"rating\": 4.0, \"coordinates\": {\"latitude\": 43.66814, \"longitude\": -79.33976}, \"transactions\": [], \"price\": \"$$$\", \"location\": {\"address1\": \"955 Gerrard Street E\", \"address2\": \"\", \"address3\": \"\", \"city\": \"Toronto\", \"zip_code\": \"M4M 1Z4\", \"country\": \"CA\", \"state\": \"ON\", \"display_address\": [\"955 Gerrard Street E\", \"Toronto, ON M4M 1Z4\", \"Canada\"]}, \"phone\": \"+14164650955\", \"display_phone\": \"+1 416-465-0955\", \"distance\": 4637.0452358992925}, {\"id\": \"a_HejZvHvG2IM7ri1CnlYA\", \"alias\": \"paisano-toronto\", \"name\": \"Paisano\", \"image_url\": \"https://s3-media2.fl.yelpcdn.com/bphoto/IPU3ULeVLWPqfWhEbjRIJQ/o.jpg\", \"is_closed\": false, \"url\": \"https://www.yelp.com/biz/paisano-toronto?adjust_creative=7XIiaRJ_izN-Q5jpSswUQA&utm_campaign=yelp_api_v3&utm_medium=api_v3_business_search&utm_source=7XIiaRJ_izN-Q5jpSswUQA\", \"review_count\": 51, \"categories\": [{\"alias\": \"italian\", \"title\": \"Italian\"}, {\"alias\": \"pizza\", \"title\": \"Pizza\"}], \"rating\": 3.5, \"coordinates\": {\"latitude\": 43.7541723, \"longitude\": -79.3495129}, \"transactions\": [], \"price\": \"$$\", \"location\": {\"address1\": \"865 York Mills Road\", \"address2\": \"\", \"address3\": null, \"city\": \"Toronto\", \"zip_code\": \"M3B 1Y6\", \"country\": \"CA\", \"state\": \"ON\", \"display_address\": [\"865 York Mills Road\", \"Toronto, ON M3B 1Y6\", \"Canada\"]}, \"phone\": \"+14162225487\", \"display_phone\": \"+1 416-222-5487\", \"distance\": 9662.856258097983}, {\"id\": \"Fl3OriheCTatMZMlNdaCnQ\", \"alias\": \"jins-mi-fen-toronto-2\", \"name\": \"Jin's Mi-Fen\", \"image_url\": \"https://s3-media4.fl.yelpcdn.com/bphoto/5dD378Ag9wNh551rpNsCUQ/o.jpg\", \"is_closed\": false, \"url\": \"https://www.yelp.com/biz/jins-mi-fen-toronto-2?adjust_creative=7XIiaRJ_izN-Q5jpSswUQA&utm_campaign=yelp_api_v3&utm_medium=api_v3_business_search&utm_source=7XIiaRJ_izN-Q5jpSswUQA\", \"review_count\": 51, \"categories\": [{\"alias\": \"noodles\", \"title\": \"Noodles\"}, {\"alias\": \"chinese\", \"title\": \"Chinese\"}], \"rating\": 4.0, \"coordinates\": {\"latitude\": 43.77831, \"longitude\": -79.4147799}, \"transactions\": [], \"location\": {\"address1\": \"5515 Yonge Street\", \"address2\": \"\", \"address3\": null, \"city\": \"Toronto\", \"zip_code\": \"M2N 5S3\", \"country\": \"CA\", \"state\": \"ON\", \"display_address\": [\"5515 Yonge Street\", \"Toronto, ON M2N 5S3\", \"Canada\"]}, \"phone\": \"+16473486868\", \"display_phone\": \"+1 647-348-6868\", \"distance\": 11648.32183218458}, {\"id\": \"iRLi-TK7K_-mcLwFwO8pPA\", \"alias\": \"green-tea-restaurant-downtown-toronto-toronto\", \"name\": \"Green Tea Restaurant Downtown Toronto\", \"image_url\": \"https://s3-media1.fl.yelpcdn.com/bphoto/xbzML5Rt0BtCMCgPJrkRaw/o.jpg\", \"is_closed\": false, \"url\": \"https://www.yelp.com/biz/green-tea-restaurant-downtown-toronto-toronto?adjust_creative=7XIiaRJ_izN-Q5jpSswUQA&utm_campaign=yelp_api_v3&utm_medium=api_v3_business_search&utm_source=7XIiaRJ_izN-Q5jpSswUQA\", \"review_count\": 26, \"categories\": [{\"alias\": \"chinese\", \"title\": \"Chinese\"}], \"rating\": 3.5, \"coordinates\": {\"latitude\": 43.65235, \"longitude\": -79.39731}, \"transactions\": [], \"location\": {\"address1\": \"261 Spadina Avenue\", \"address2\": \"Upper Level\", \"address3\": \"\", \"city\": \"Toronto\", \"zip_code\": \"M5T 2E3\", \"country\": \"CA\", \"state\": \"ON\", \"display_address\": [\"261 Spadina Avenue\", \"Upper Level\", \"Toronto, ON M5T 2E3\", \"Canada\"]}, \"phone\": \"+14165191073\", \"display_phone\": \"+1 416-519-1073\", \"distance\": 2439.184719889376}, {\"id\": \"dRjU-uxMeInyYgBb61Ap7A\", \"alias\": \"itacate-toronto\", \"name\": \"Itacate\", \"image_url\": \"https://s3-media4.fl.yelpcdn.com/bphoto/u7zjR6MOINR84AYwFFiTCA/o.jpg\", \"is_closed\": false, \"url\": \"https://www.yelp.com/biz/itacate-toronto?adjust_creative=7XIiaRJ_izN-Q5jpSswUQA&utm_campaign=yelp_api_v3&utm_medium=api_v3_business_search&utm_source=7XIiaRJ_izN-Q5jpSswUQA\", \"review_count\": 32, \"categories\": [{\"alias\": \"mexican\", \"title\": \"Mexican\"}], \"rating\": 4.5, \"coordinates\": {\"latitude\": 43.6793908547042, \"longitude\": -79.4371611624956}, \"transactions\": [], \"price\": \"$$\", \"location\": {\"address1\": \"998 St. Clair Avenue W\", \"address2\": null, \"address3\": \"\", \"city\": \"Toronto\", \"zip_code\": \"M6E 1A2\", \"country\": \"CA\", \"state\": \"ON\", \"display_address\": [\"998 St. Clair Avenue W\", \"Toronto, ON M6E 1A2\", \"Canada\"]}, \"phone\": \"+16477010420\", \"display_phone\": \"+1 647-701-0420\", \"distance\": 3293.641531764503}, {\"id\": \"9ooTxMSL0xe1b0RvwTyDgg\", \"alias\": \"coffee-oysters-champagne-toronto\", \"name\": \"Coffee Oysters Champagne\", \"image_url\": \"https://s3-media1.fl.yelpcdn.com/bphoto/zgprOto1dR3QgjuOyR-WwA/o.jpg\", \"is_closed\": false, \"url\": \"https://www.yelp.com/biz/coffee-oysters-champagne-toronto?adjust_creative=7XIiaRJ_izN-Q5jpSswUQA&utm_campaign=yelp_api_v3&utm_medium=api_v3_business_search&utm_source=7XIiaRJ_izN-Q5jpSswUQA\", \"review_count\": 58, \"categories\": [{\"alias\": \"champagne_bars\", \"title\": \"Champagne Bars\"}, {\"alias\": \"seafood\", \"title\": \"Seafood\"}], \"rating\": 4.0, \"coordinates\": {\"latitude\": 43.64757, \"longitude\": -79.38684}, \"transactions\": [], \"location\": {\"address1\": \"214 King Street W\", \"address2\": \"Suite B1\", \"address3\": null, \"city\": \"Toronto\", \"zip_code\": \"M5H 3S6\", \"country\": \"CA\", \"state\": \"ON\", \"display_address\": [\"214 King Street W\", \"Suite B1\", \"Toronto, ON M5H 3S6\", \"Canada\"]}, \"phone\": \"+14164084044\", \"display_phone\": \"+1 416-408-4044\", \"distance\": 3092.27665905822}, {\"id\": \"bNHeKmkBx5emT9xLfdWyjw\", \"alias\": \"tokyo-sushi-toronto-11\", \"name\": \"Tokyo Sushi\", \"image_url\": \"https://s3-media3.fl.yelpcdn.com/bphoto/587OOQU02KeC7LK1WVwdbw/o.jpg\", \"is_closed\": false, \"url\": \"https://www.yelp.com/biz/tokyo-sushi-toronto-11?adjust_creative=7XIiaRJ_izN-Q5jpSswUQA&utm_campaign=yelp_api_v3&utm_medium=api_v3_business_search&utm_source=7XIiaRJ_izN-Q5jpSswUQA\", \"review_count\": 112, \"categories\": [{\"alias\": \"sushi\", \"title\": \"Sushi Bars\"}, {\"alias\": \"japanese\", \"title\": \"Japanese\"}], \"rating\": 4.0, \"coordinates\": {\"latitude\": 43.6655988169559, \"longitude\": -79.3869840388907}, \"transactions\": [], \"price\": \"$$\", \"location\": {\"address1\": \"33 St Joseph Street\", \"address2\": \"\", \"address3\": null, \"city\": \"Toronto\", \"zip_code\": \"M4Y 1J8\", \"country\": \"CA\", \"state\": \"ON\", \"display_address\": [\"33 St Joseph Street\", \"Toronto, ON M4Y 1J8\", \"Canada\"]}, \"phone\": \"+14165130002\", \"display_phone\": \"+1 416-513-0002\", \"distance\": 1248.2376268983232}, {\"id\": \"j87_0kpKjsRx-EKHmOW6VQ\", \"alias\": \"siempre-restaurant-toronto-7\", \"name\": \"Siempre Restaurant\", \"image_url\": \"https://s3-media3.fl.yelpcdn.com/bphoto/qGq1jc0fr1St_Q2AMFKNAw/o.jpg\", \"is_closed\": false, \"url\": \"https://www.yelp.com/biz/siempre-restaurant-toronto-7?adjust_creative=7XIiaRJ_izN-Q5jpSswUQA&utm_campaign=yelp_api_v3&utm_medium=api_v3_business_search&utm_source=7XIiaRJ_izN-Q5jpSswUQA\", \"review_count\": 44, \"categories\": [{\"alias\": \"breakfast_brunch\", \"title\": \"Breakfast & Brunch\"}], \"rating\": 4.0, \"coordinates\": {\"latitude\": 43.643393311738, \"longitude\": -79.3922074406298}, \"transactions\": [], \"price\": \"$$\", \"location\": {\"address1\": \"348 Front Street W\", \"address2\": null, \"address3\": null, \"city\": \"Toronto\", \"zip_code\": \"M5V 3W7\", \"country\": \"CA\", \"state\": \"ON\", \"display_address\": [\"348 Front Street W\", \"Toronto, ON M5V 3W7\", \"Canada\"]}, \"phone\": \"+16473468222\", \"display_phone\": \"+1 647-346-8222\", \"distance\": 3454.6441457936603}, {\"id\": \"j_hB9Gt3VMJAbA2JyvyFjw\", \"alias\": \"wish-toronto\", \"name\": \"Wish\", \"image_url\": \"https://s3-media1.fl.yelpcdn.com/bphoto/j5852LYC7SD6GsBb1Xkssg/o.jpg\", \"is_closed\": false, \"url\": \"https://www.yelp.com/biz/wish-toronto?adjust_creative=7XIiaRJ_izN-Q5jpSswUQA&utm_campaign=yelp_api_v3&utm_medium=api_v3_business_search&utm_source=7XIiaRJ_izN-Q5jpSswUQA\", \"review_count\": 281, \"categories\": [{\"alias\": \"lounges\", \"title\": \"Lounges\"}, {\"alias\": \"breakfast_brunch\", \"title\": \"Breakfast & Brunch\"}, {\"alias\": \"newcanadian\", \"title\": \"Canadian (New)\"}], \"rating\": 3.0, \"coordinates\": {\"latitude\": 43.66861, \"longitude\": -79.3855899}, \"transactions\": [], \"price\": \"$$\", \"location\": {\"address1\": \"3 Charles Street E\", \"address2\": \"\", \"address3\": \"\", \"city\": \"Toronto\", \"zip_code\": \"M4Y 1R9\", \"country\": \"CA\", \"state\": \"ON\", \"display_address\": [\"3 Charles Street E\", \"Toronto, ON M4Y 1R9\", \"Canada\"]}, \"phone\": \"+14169350240\", \"display_phone\": \"+1 416-935-0240\", \"distance\": 1093.2160521895232}, {\"id\": \"4-FgbYd8jUSqevNRxRtS-w\", \"alias\": \"rosalinda-toronto-3\", \"name\": \"Rosalinda\", \"image_url\": \"https://s3-media1.fl.yelpcdn.com/bphoto/6oshxtfw6ph7t7cMnFf4PA/o.jpg\", \"is_closed\": false, \"url\": \"https://www.yelp.com/biz/rosalinda-toronto-3?adjust_creative=7XIiaRJ_izN-Q5jpSswUQA&utm_campaign=yelp_api_v3&utm_medium=api_v3_business_search&utm_source=7XIiaRJ_izN-Q5jpSswUQA\", \"review_count\": 159, \"categories\": [{\"alias\": \"mexican\", \"title\": \"Mexican\"}, {\"alias\": \"vegan\", \"title\": \"Vegan\"}], \"rating\": 3.5, \"coordinates\": {\"latitude\": 43.6500769660141, \"longitude\": -79.3848312646151}, \"transactions\": [], \"price\": \"$$\", \"location\": {\"address1\": \"133 Richmond Street W\", \"address2\": \"\", \"address3\": null, \"city\": \"Toronto\", \"zip_code\": \"M5H 3A9\", \"country\": \"CA\", \"state\": \"ON\", \"display_address\": [\"133 Richmond Street W\", \"Toronto, ON M5H 3A9\", \"Canada\"]}, \"phone\": \"+14169070650\", \"display_phone\": \"+1 416-907-0650\", \"distance\": 2859.0316685432385}, {\"id\": \"Gzt3H_y_kuoIJkV-2EY-RA\", \"alias\": \"hokkaido-ramen-santouka-toronto-3\", \"name\": \"Hokkaido Ramen Santouka\", \"image_url\": \"https://s3-media4.fl.yelpcdn.com/bphoto/eDSPWYPFRAOQ_QtADePurA/o.jpg\", \"is_closed\": false, \"url\": \"https://www.yelp.com/biz/hokkaido-ramen-santouka-toronto-3?adjust_creative=7XIiaRJ_izN-Q5jpSswUQA&utm_campaign=yelp_api_v3&utm_medium=api_v3_business_search&utm_source=7XIiaRJ_izN-Q5jpSswUQA\", \"review_count\": 25, \"categories\": [{\"alias\": \"ramen\", \"title\": \"Ramen\"}], \"rating\": 4.0, \"coordinates\": {\"latitude\": 43.66539, \"longitude\": -79.40882}, \"transactions\": [], \"location\": {\"address1\": \"515 Bloor Street W\", \"address2\": \"\", \"address3\": null, \"city\": \"Toronto\", \"zip_code\": \"M5S 1Y4\", \"country\": \"CA\", \"state\": \"ON\", \"display_address\": [\"515 Bloor Street W\", \"Toronto, ON M5S 1Y4\", \"Canada\"]}, \"phone\": \"+16473466350\", \"display_phone\": \"+1 647-346-6350\", \"distance\": 1373.2828793702809}, {\"id\": \"R6ogSY7AA-gl_81PhdGJaw\", \"alias\": \"padella-toronto\", \"name\": \"Padella\", \"image_url\": \"https://s3-media3.fl.yelpcdn.com/bphoto/a2ubm6z2NO_IluJlgDi_RA/o.jpg\", \"is_closed\": false, \"url\": \"https://www.yelp.com/biz/padella-toronto?adjust_creative=7XIiaRJ_izN-Q5jpSswUQA&utm_campaign=yelp_api_v3&utm_medium=api_v3_business_search&utm_source=7XIiaRJ_izN-Q5jpSswUQA\", \"review_count\": 12, \"categories\": [{\"alias\": \"italian\", \"title\": \"Italian\"}], \"rating\": 4.0, \"coordinates\": {\"latitude\": 43.7346999, \"longitude\": -79.41951}, \"transactions\": [], \"location\": {\"address1\": \"1967 Avenue Road\", \"address2\": \"\", \"address3\": null, \"city\": \"Toronto\", \"zip_code\": \"M5M 4A1\", \"country\": \"CA\", \"state\": \"ON\", \"display_address\": [\"1967 Avenue Road\", \"Toronto, ON M5M 4A1\", \"Canada\"]}, \"phone\": \"+14165198222\", \"display_phone\": \"+1 416-519-8222\", \"distance\": 6952.384276544642}, {\"id\": \"g3q_9vbAc9N3Cu_bjX3DcA\", \"alias\": \"river-tai-toronto\", \"name\": \"River Tai\", \"image_url\": \"https://s3-media1.fl.yelpcdn.com/bphoto/TRZ9EHO45qoLsyTKx3lHWw/o.jpg\", \"is_closed\": false, \"url\": \"https://www.yelp.com/biz/river-tai-toronto?adjust_creative=7XIiaRJ_izN-Q5jpSswUQA&utm_campaign=yelp_api_v3&utm_medium=api_v3_business_search&utm_source=7XIiaRJ_izN-Q5jpSswUQA\", \"review_count\": 6, \"categories\": [{\"alias\": \"chinese\", \"title\": \"Chinese\"}], \"rating\": 4.0, \"coordinates\": {\"latitude\": 43.6630083323837, \"longitude\": -79.4026139751077}, \"transactions\": [], \"location\": {\"address1\": \"92 Harbord Street\", \"address2\": \"\", \"address3\": \"\", \"city\": \"Toronto\", \"zip_code\": \"M5S 1G5\", \"country\": \"CA\", \"state\": \"ON\", \"display_address\": [\"92 Harbord Street\", \"Toronto, ON M5S 1G5\", \"Canada\"]}, \"phone\": \"+14169256305\", \"display_phone\": \"+1 416-925-6305\", \"distance\": 1337.3889125283001}, {\"id\": \"Vp27tfpa318kEz_PwglbMA\", \"alias\": \"omni-palace-noodle-house-toronto\", \"name\": \"Omni Palace Noodle House\", \"image_url\": \"https://s3-media3.fl.yelpcdn.com/bphoto/kbG3_veG--Mliyg0OAZ6Nw/o.jpg\", \"is_closed\": false, \"url\": \"https://www.yelp.com/biz/omni-palace-noodle-house-toronto?adjust_creative=7XIiaRJ_izN-Q5jpSswUQA&utm_campaign=yelp_api_v3&utm_medium=api_v3_business_search&utm_source=7XIiaRJ_izN-Q5jpSswUQA\", \"review_count\": 105, \"categories\": [{\"alias\": \"noodles\", \"title\": \"Noodles\"}], \"rating\": 3.5, \"coordinates\": {\"latitude\": 43.7713141, \"longitude\": -79.3316661}, \"transactions\": [], \"price\": \"$$\", \"location\": {\"address1\": \"235 Consumers Road\", \"address2\": null, \"address3\": \"\", \"city\": \"Toronto\", \"zip_code\": \"M2J 0E9\", \"country\": \"CA\", \"state\": \"ON\", \"display_address\": [\"235 Consumers Road\", \"Toronto, ON M2J 0E9\", \"Canada\"]}, \"phone\": \"+14164930080\", \"display_phone\": \"+1 416-493-0080\", \"distance\": 11955.6778773397}, {\"id\": \"lEXpXVDt5xKGg6hOmRcTGg\", \"alias\": \"europe-bar-and-restaurant-north-york\", \"name\": \"Europe Bar & Restaurant\", \"image_url\": \"https://s3-media1.fl.yelpcdn.com/bphoto/HaBMYFtYnJ96pX9cyx3aWA/o.jpg\", \"is_closed\": false, \"url\": \"https://www.yelp.com/biz/europe-bar-and-restaurant-north-york?adjust_creative=7XIiaRJ_izN-Q5jpSswUQA&utm_campaign=yelp_api_v3&utm_medium=api_v3_business_search&utm_source=7XIiaRJ_izN-Q5jpSswUQA\", \"review_count\": 20, \"categories\": [{\"alias\": \"hungarian\", \"title\": \"Hungarian\"}, {\"alias\": \"bars\", \"title\": \"Bars\"}], \"rating\": 4.0, \"coordinates\": {\"latitude\": 43.71817, \"longitude\": -79.4297799}, \"transactions\": [], \"price\": \"$$\", \"location\": {\"address1\": \"3030 Bathurst Street\", \"address2\": \"\", \"address3\": \"\", \"city\": \"North York\", \"zip_code\": \"M6B 3B6\", \"country\": \"CA\", \"state\": \"ON\", \"display_address\": [\"3030 Bathurst Street\", \"North York, ON M6B 3B6\", \"Canada\"]}, \"phone\": \"+16474369739\", \"display_phone\": \"+1 647-436-9739\", \"distance\": 5555.746811892675}, {\"id\": \"06e352Ie1A4edgqVl4HERA\", \"alias\": \"the-alpine-toronto\", \"name\": \"The Alpine\", \"image_url\": \"https://s3-media1.fl.yelpcdn.com/bphoto/kml--IQSKauJ0PyJ7w9o_Q/o.jpg\", \"is_closed\": false, \"url\": \"https://www.yelp.com/biz/the-alpine-toronto?adjust_creative=7XIiaRJ_izN-Q5jpSswUQA&utm_campaign=yelp_api_v3&utm_medium=api_v3_business_search&utm_source=7XIiaRJ_izN-Q5jpSswUQA\", \"review_count\": 23, \"categories\": [{\"alias\": \"gastropubs\", \"title\": \"Gastropubs\"}, {\"alias\": \"newcanadian\", \"title\": \"Canadian (New)\"}], \"rating\": 4.0, \"coordinates\": {\"latitude\": 43.66562, \"longitude\": -79.4652}, \"transactions\": [\"restaurant_reservation\"], \"location\": {\"address1\": \"2872 Dundas Street W\", \"address2\": \"\", \"address3\": null, \"city\": \"Toronto\", \"zip_code\": \"M6P 1Y8\", \"country\": \"CA\", \"state\": \"ON\", \"display_address\": [\"2872 Dundas Street W\", \"Toronto, ON M6P 1Y8\", \"Canada\"]}, \"phone\": \"+16473525585\", \"display_phone\": \"+1 647-352-5585\", \"distance\": 5590.934656392901}, {\"id\": \"ZP_1K8uC-YGbdPQ0KfNJog\", \"alias\": \"folly-brewing-toronto\", \"name\": \"Folly Brewing\", \"image_url\": \"https://s3-media2.fl.yelpcdn.com/bphoto/34Lcc00lejXc2AyYMr3dkw/o.jpg\", \"is_closed\": false, \"url\": \"https://www.yelp.com/biz/folly-brewing-toronto?adjust_creative=7XIiaRJ_izN-Q5jpSswUQA&utm_campaign=yelp_api_v3&utm_medium=api_v3_business_search&utm_source=7XIiaRJ_izN-Q5jpSswUQA\", \"review_count\": 29, \"categories\": [{\"alias\": \"brewpubs\", \"title\": \"Brewpubs\"}], \"rating\": 4.0, \"coordinates\": {\"latitude\": 43.65401, \"longitude\": -79.42591}, \"transactions\": [], \"price\": \"$$\", \"location\": {\"address1\": \"928 College Street\", \"address2\": \"\", \"address3\": \"\", \"city\": \"Toronto\", \"zip_code\": \"M6H 1A4\", \"country\": \"CA\", \"state\": \"ON\", \"display_address\": [\"928 College Street\", \"Toronto, ON M6H 1A4\", \"Canada\"]}, \"phone\": \"+14165337272\", \"display_phone\": \"+1 416-533-7272\", \"distance\": 3251.968682197031}, {\"id\": \"FyAioPDhzS5IP4a4SXeG-Q\", \"alias\": \"kasa-moto-toronto\", \"name\": \"Kasa Moto\", \"image_url\": \"https://s3-media4.fl.yelpcdn.com/bphoto/b5_eLk8RwNIK_G6EGI5TmQ/o.jpg\", \"is_closed\": false, \"url\": \"https://www.yelp.com/biz/kasa-moto-toronto?adjust_creative=7XIiaRJ_izN-Q5jpSswUQA&utm_campaign=yelp_api_v3&utm_medium=api_v3_business_search&utm_source=7XIiaRJ_izN-Q5jpSswUQA\", \"review_count\": 221, \"categories\": [{\"alias\": \"japanese\", \"title\": \"Japanese\"}, {\"alias\": \"sushi\", \"title\": \"Sushi Bars\"}], \"rating\": 3.5, \"coordinates\": {\"latitude\": 43.670608, \"longitude\": -79.3927837}, \"transactions\": [], \"price\": \"$$$\", \"location\": {\"address1\": \"115 Yorkville Avenue\", \"address2\": \"\", \"address3\": \"\", \"city\": \"Toronto\", \"zip_code\": \"M5R 1C1\", \"country\": \"CA\", \"state\": \"ON\", \"display_address\": [\"115 Yorkville Avenue\", \"Toronto, ON M5R 1C1\", \"Canada\"]}, \"phone\": \"+16473487000\", \"display_phone\": \"+1 647-348-7000\", \"distance\": 521.8052217275706}, {\"id\": \"1W_gZM_uuEvJqapbIl6z9Q\", \"alias\": \"el-charro-toronto-2\", \"name\": \"El Charro\", \"image_url\": \"https://s3-media2.fl.yelpcdn.com/bphoto/a6MwovEkHyxMHFULRkV4lQ/o.jpg\", \"is_closed\": false, \"url\": \"https://www.yelp.com/biz/el-charro-toronto-2?adjust_creative=7XIiaRJ_izN-Q5jpSswUQA&utm_campaign=yelp_api_v3&utm_medium=api_v3_business_search&utm_source=7XIiaRJ_izN-Q5jpSswUQA\", \"review_count\": 63, \"categories\": [{\"alias\": \"mexican\", \"title\": \"Mexican\"}], \"rating\": 4.0, \"coordinates\": {\"latitude\": 43.6771428, \"longitude\": -79.3590065}, \"transactions\": [], \"price\": \"$\", \"location\": {\"address1\": \"788 Broadview ave\", \"address2\": null, \"address3\": \"\", \"city\": \"Toronto\", \"zip_code\": \"M4K 2P7\", \"country\": \"CA\", \"state\": \"ON\", \"display_address\": [\"788 Broadview ave\", \"Toronto, ON M4K 2P7\", \"Canada\"]}, \"phone\": \"+16473585883\", \"display_phone\": \"+1 647-358-5883\", \"distance\": 3057.6635881105103}, {\"id\": \"blxcciomidl5td-QTSsg5Q\", \"alias\": \"souv-like-toronto\", \"name\": \"Souv Like\", \"image_url\": \"https://s3-media3.fl.yelpcdn.com/bphoto/uMgWwmmoMkTSwjQhfGEHFw/o.jpg\", \"is_closed\": false, \"url\": \"https://www.yelp.com/biz/souv-like-toronto?adjust_creative=7XIiaRJ_izN-Q5jpSswUQA&utm_campaign=yelp_api_v3&utm_medium=api_v3_business_search&utm_source=7XIiaRJ_izN-Q5jpSswUQA\", \"review_count\": 53, \"categories\": [{\"alias\": \"greek\", \"title\": \"Greek\"}], \"rating\": 4.5, \"coordinates\": {\"latitude\": 43.67948, \"longitude\": -79.34532}, \"transactions\": [], \"price\": \"$\", \"location\": {\"address1\": \"708 Pape Avenue\", \"address2\": \"\", \"address3\": \"\", \"city\": \"Toronto\", \"zip_code\": \"M4K 3S7\", \"country\": \"CA\", \"state\": \"ON\", \"display_address\": [\"708 Pape Avenue\", \"Toronto, ON M4K 3S7\", \"Canada\"]}, \"phone\": \"+16473499420\", \"display_phone\": \"+1 647-349-9420\", \"distance\": 4188.103808457213}, {\"id\": \"bbSb-uviEUNlCw1bitAmQg\", \"alias\": \"baddies-toronto-2\", \"name\": \"Baddies\", \"image_url\": \"https://s3-media3.fl.yelpcdn.com/bphoto/amGibOcfoi74oI1wUEXZzw/o.jpg\", \"is_closed\": false, \"url\": \"https://www.yelp.com/biz/baddies-toronto-2?adjust_creative=7XIiaRJ_izN-Q5jpSswUQA&utm_campaign=yelp_api_v3&utm_medium=api_v3_business_search&utm_source=7XIiaRJ_izN-Q5jpSswUQA\", \"review_count\": 88, \"categories\": [{\"alias\": \"coffee\", \"title\": \"Coffee & Tea\"}, {\"alias\": \"breakfast_brunch\", \"title\": \"Breakfast & Brunch\"}, {\"alias\": \"cafes\", \"title\": \"Cafes\"}], \"rating\": 4.0, \"coordinates\": {\"latitude\": 43.6588007893681, \"longitude\": -79.4426684081554}, \"transactions\": [], \"price\": \"$$\", \"location\": {\"address1\": \"679 Lansdowne Avenue\", \"address2\": \"\", \"address3\": null, \"city\": \"Toronto\", \"zip_code\": \"M6H 3Y9\", \"country\": \"CA\", \"state\": \"ON\", \"display_address\": [\"679 Lansdowne Avenue\", \"Toronto, ON M6H 3Y9\", \"Canada\"]}, \"phone\": \"\", \"display_phone\": \"\", \"distance\": 4069.8002148867326}, {\"id\": \"QFPS9JBNdOOHVP0C3pSslw\", \"alias\": \"earls-kitchen-bar-toronto\", \"name\": \"Earls Kitchen + Bar\", \"image_url\": \"https://s3-media1.fl.yelpcdn.com/bphoto/d5lDPc9Tu-K2qeIvhsqFfw/o.jpg\", \"is_closed\": false, \"url\": \"https://www.yelp.com/biz/earls-kitchen-bar-toronto?adjust_creative=7XIiaRJ_izN-Q5jpSswUQA&utm_campaign=yelp_api_v3&utm_medium=api_v3_business_search&utm_source=7XIiaRJ_izN-Q5jpSswUQA\", \"review_count\": 425, \"categories\": [{\"alias\": \"newcanadian\", \"title\": \"Canadian (New)\"}, {\"alias\": \"cocktailbars\", \"title\": \"Cocktail Bars\"}], \"rating\": 3.5, \"coordinates\": {\"latitude\": 43.6480134620711, \"longitude\": -79.3839246431072}, \"transactions\": [], \"price\": \"$$\", \"location\": {\"address1\": \"150 King Street West\", \"address2\": \"Unit 100\", \"address3\": \"\", \"city\": \"Toronto\", \"zip_code\": \"V5H 1J9\", \"country\": \"CA\", \"state\": \"ON\", \"display_address\": [\"150 King Street West\", \"Unit 100\", \"Toronto, ON V5H 1J9\", \"Canada\"]}, \"phone\": \"+14169160227\", \"display_phone\": \"+1 416-916-0227\", \"distance\": 3099.653383252232}, {\"id\": \"5a2WPziZW2HoW10H1ovbpQ\", \"alias\": \"the-peasant-table-toronto\", \"name\": \"The Peasant Table\", \"image_url\": \"https://s3-media3.fl.yelpcdn.com/bphoto/FkwoQm4WBP16HoWNIAnmvA/o.jpg\", \"is_closed\": false, \"url\": \"https://www.yelp.com/biz/the-peasant-table-toronto?adjust_creative=7XIiaRJ_izN-Q5jpSswUQA&utm_campaign=yelp_api_v3&utm_medium=api_v3_business_search&utm_source=7XIiaRJ_izN-Q5jpSswUQA\", \"review_count\": 70, \"categories\": [{\"alias\": \"italian\", \"title\": \"Italian\"}, {\"alias\": \"breakfast_brunch\", \"title\": \"Breakfast & Brunch\"}, {\"alias\": \"gastropubs\", \"title\": \"Gastropubs\"}], \"rating\": 3.5, \"coordinates\": {\"latitude\": 43.6595356508969, \"longitude\": -79.3473240555947}, \"transactions\": [], \"price\": \"$$\", \"location\": {\"address1\": \"782 Queen Street E\", \"address2\": \"\", \"address3\": \"\", \"city\": \"Toronto\", \"zip_code\": \"M4M 1H4\", \"country\": \"CA\", \"state\": \"ON\", \"display_address\": [\"782 Queen Street E\", \"Toronto, ON M4M 1H4\", \"Canada\"]}, \"phone\": \"+16473437022\", \"display_phone\": \"+1 647-343-7022\", \"distance\": 4305.6392425463055}, {\"id\": \"yE0vKTYITUN3EC3hbYxyXQ\", \"alias\": \"bsg-hot-pot-toronto-2\", \"name\": \"BSG Hot Pot\", \"image_url\": \"https://s3-media4.fl.yelpcdn.com/bphoto/npLkkhMUyNOnO44aOJ8z4w/o.jpg\", \"is_closed\": false, \"url\": \"https://www.yelp.com/biz/bsg-hot-pot-toronto-2?adjust_creative=7XIiaRJ_izN-Q5jpSswUQA&utm_campaign=yelp_api_v3&utm_medium=api_v3_business_search&utm_source=7XIiaRJ_izN-Q5jpSswUQA\", \"review_count\": 22, \"categories\": [{\"alias\": \"chinese\", \"title\": \"Chinese\"}, {\"alias\": \"hotpot\", \"title\": \"Hot Pot\"}, {\"alias\": \"buffets\", \"title\": \"Buffets\"}], \"rating\": 4.0, \"coordinates\": {\"latitude\": 43.80597, \"longitude\": -79.33742}, \"transactions\": [\"restaurant_reservation\"], \"price\": \"$$\", \"location\": {\"address1\": \"3560 Victoria Park Avenue\", \"address2\": \"Unit 1-2\", \"address3\": \"\", \"city\": \"Toronto\", \"zip_code\": \"M2H 3S3\", \"country\": \"CA\", \"state\": \"ON\", \"display_address\": [\"3560 Victoria Park Avenue\", \"Unit 1-2\", \"Toronto, ON M2H 3S3\", \"Canada\"]}, \"phone\": \"+14165516656\", \"display_phone\": \"+1 416-551-6656\", \"distance\": 15356.089122791584}, {\"id\": \"0i8_ut-dImsNnzRlAV8OvQ\", \"alias\": \"o-espeta-restaurant-toronto\", \"name\": \"O Espeta Restaurant\", \"image_url\": \"https://s3-media1.fl.yelpcdn.com/bphoto/jlDurJ_mx3LlSgLNDuuDJA/o.jpg\", \"is_closed\": false, \"url\": \"https://www.yelp.com/biz/o-espeta-restaurant-toronto?adjust_creative=7XIiaRJ_izN-Q5jpSswUQA&utm_campaign=yelp_api_v3&utm_medium=api_v3_business_search&utm_source=7XIiaRJ_izN-Q5jpSswUQA\", \"review_count\": 1, \"categories\": [{\"alias\": \"portuguese\", \"title\": \"Portuguese\"}], \"rating\": 5.0, \"coordinates\": {\"latitude\": 43.6758988429, \"longitude\": -79.4537720829}, \"transactions\": [], \"location\": {\"address1\": \"1480 st Clair Avenue W\", \"address2\": \"\", \"address3\": \"\", \"city\": \"Toronto\", \"zip_code\": \"M6E 1C7\", \"country\": \"CA\", \"state\": \"ON\", \"display_address\": [\"1480 st Clair Avenue W\", \"Toronto, ON M6E 1C7\", \"Canada\"]}, \"phone\": \"+14166546666\", \"display_phone\": \"+1 416-654-6666\", \"distance\": 4583.8120692311395}, {\"id\": \"tuTAKHUm7ErDRZ2Yll8LzQ\", \"alias\": \"completo-toronto\", \"name\": \"Completo\", \"image_url\": \"https://s3-media1.fl.yelpcdn.com/bphoto/gubPZ9g-MxoTqDwi5hHoNg/o.jpg\", \"is_closed\": false, \"url\": \"https://www.yelp.com/biz/completo-toronto?adjust_creative=7XIiaRJ_izN-Q5jpSswUQA&utm_campaign=yelp_api_v3&utm_medium=api_v3_business_search&utm_source=7XIiaRJ_izN-Q5jpSswUQA\", \"review_count\": 148, \"categories\": [{\"alias\": \"latin\", \"title\": \"Latin American\"}, {\"alias\": \"hotdogs\", \"title\": \"Fast Food\"}, {\"alias\": \"comfortfood\", \"title\": \"Comfort Food\"}], \"rating\": 4.5, \"coordinates\": {\"latitude\": 43.6626328, \"longitude\": -79.3340575}, \"transactions\": [], \"price\": \"$\", \"location\": {\"address1\": \"5 Coady Avenue\", \"address2\": \"\", \"address3\": \"\", \"city\": \"Toronto\", \"zip_code\": \"M4M 2Y9\", \"country\": \"CA\", \"state\": \"ON\", \"display_address\": [\"5 Coady Avenue\", \"Toronto, ON M4M 2Y9\", \"Canada\"]}, \"phone\": \"+14169019233\", \"display_phone\": \"+1 416-901-9233\", \"distance\": 5211.68620117595}, {\"id\": \"tBSHxwxaAdC6NGcsRumbMg\", \"alias\": \"qoola-toronto\", \"name\": \"Qoola\", \"image_url\": \"https://s3-media2.fl.yelpcdn.com/bphoto/st3Abr0n1ByubIXmwFNl8w/o.jpg\", \"is_closed\": false, \"url\": \"https://www.yelp.com/biz/qoola-toronto?adjust_creative=7XIiaRJ_izN-Q5jpSswUQA&utm_campaign=yelp_api_v3&utm_medium=api_v3_business_search&utm_source=7XIiaRJ_izN-Q5jpSswUQA\", \"review_count\": 14, \"categories\": [{\"alias\": \"desserts\", \"title\": \"Desserts\"}, {\"alias\": \"icecream\", \"title\": \"Ice Cream & Frozen Yogurt\"}], \"rating\": 4.0, \"coordinates\": {\"latitude\": 43.7741348, \"longitude\": -79.5036081}, \"transactions\": [], \"price\": \"$\", \"location\": {\"address1\": \"4700 Keele Street\", \"address2\": \"Unit 34\", \"address3\": \"\", \"city\": \"Toronto\", \"zip_code\": \"M3J 1P3\", \"country\": \"CA\", \"state\": \"ON\", \"display_address\": [\"4700 Keele Street\", \"Unit 34\", \"Toronto, ON M3J 1P3\", \"Canada\"]}, \"phone\": \"+14166616652\", \"display_phone\": \"+1 416-661-6652\", \"distance\": 14032.70589344848}, {\"id\": \"X6ZZksefmR_piQj2Gbnduw\", \"alias\": \"paldo-gangsan-toronto\", \"name\": \"Paldo Gangsan\", \"image_url\": \"https://s3-media3.fl.yelpcdn.com/bphoto/3Z8YQMkXZSSbLav_0RJoVg/o.jpg\", \"is_closed\": false, \"url\": \"https://www.yelp.com/biz/paldo-gangsan-toronto?adjust_creative=7XIiaRJ_izN-Q5jpSswUQA&utm_campaign=yelp_api_v3&utm_medium=api_v3_business_search&utm_source=7XIiaRJ_izN-Q5jpSswUQA\", \"review_count\": 70, \"categories\": [{\"alias\": \"korean\", \"title\": \"Korean\"}], \"rating\": 4.0, \"coordinates\": {\"latitude\": 43.664, \"longitude\": -79.41743}, \"transactions\": [], \"price\": \"$\", \"location\": {\"address1\": \"694 Bloor Street  W\", \"address2\": \"\", \"address3\": \"\", \"city\": \"Toronto\", \"zip_code\": \"M6G 1L4\", \"country\": \"CA\", \"state\": \"ON\", \"display_address\": [\"694 Bloor Street  W\", \"Toronto, ON M6G 1L4\", \"Canada\"]}, \"phone\": \"+14165367517\", \"display_phone\": \"+1 416-536-7517\", \"distance\": 2021.964987289435}, {\"id\": \"vqYCZseV9WqasZnO-iSQtg\", \"alias\": \"joy-thai-restaurant-toronto\", \"name\": \"Joy Thai Restaurant\", \"image_url\": \"https://s3-media1.fl.yelpcdn.com/bphoto/suGX-h6YQcrP8FXWlNtFOA/o.jpg\", \"is_closed\": false, \"url\": \"https://www.yelp.com/biz/joy-thai-restaurant-toronto?adjust_creative=7XIiaRJ_izN-Q5jpSswUQA&utm_campaign=yelp_api_v3&utm_medium=api_v3_business_search&utm_source=7XIiaRJ_izN-Q5jpSswUQA\", \"review_count\": 36, \"categories\": [{\"alias\": \"thai\", \"title\": \"Thai\"}, {\"alias\": \"seafood\", \"title\": \"Seafood\"}, {\"alias\": \"noodles\", \"title\": \"Noodles\"}], \"rating\": 4.0, \"coordinates\": {\"latitude\": 43.72796, \"longitude\": -79.40321}, \"transactions\": [], \"price\": \"$$\", \"location\": {\"address1\": \"3192 Yonge Street\", \"address2\": \"\", \"address3\": \"\", \"city\": \"Toronto\", \"zip_code\": \"M4N 2L1\", \"country\": \"CA\", \"state\": \"ON\", \"display_address\": [\"3192 Yonge Street\", \"Toronto, ON M4N 2L1\", \"Canada\"]}, \"phone\": \"+14164875144\", \"display_phone\": \"+1 416-487-5144\", \"distance\": 5990.106815184439}, {\"id\": \"fDkQcos3MqqCYGWfl64iiA\", \"alias\": \"mistura-restaurant-toronto\", \"name\": \"Mistura Restaurant\", \"image_url\": \"https://s3-media2.fl.yelpcdn.com/bphoto/OoD5rhjGlerl93yDangj9Q/o.jpg\", \"is_closed\": false, \"url\": \"https://www.yelp.com/biz/mistura-restaurant-toronto?adjust_creative=7XIiaRJ_izN-Q5jpSswUQA&utm_campaign=yelp_api_v3&utm_medium=api_v3_business_search&utm_source=7XIiaRJ_izN-Q5jpSswUQA\", \"review_count\": 61, \"categories\": [{\"alias\": \"italian\", \"title\": \"Italian\"}], \"rating\": 3.5, \"coordinates\": {\"latitude\": 43.6742947, \"longitude\": -79.3982251}, \"transactions\": [], \"price\": \"$$$$\", \"location\": {\"address1\": \"265 Davenport Road\", \"address2\": \"\", \"address3\": \"\", \"city\": \"Toronto\", \"zip_code\": \"M5R 1J9\", \"country\": \"CA\", \"state\": \"ON\", \"display_address\": [\"265 Davenport Road\", \"Toronto, ON M5R 1J9\", \"Canada\"]}, \"phone\": \"+14165150009\", \"display_phone\": \"+1 416-515-0009\", \"distance\": 113.00805199133899}, {\"id\": \"D5oLn4j7eezCAoOsuYr8jA\", \"alias\": \"nd-sushi-and-grill-toronto-3\", \"name\": \"ND Sushi & Grill\", \"image_url\": \"https://s3-media2.fl.yelpcdn.com/bphoto/Q2B-obLrxbVGbmmyZIoCCw/o.jpg\", \"is_closed\": false, \"url\": \"https://www.yelp.com/biz/nd-sushi-and-grill-toronto-3?adjust_creative=7XIiaRJ_izN-Q5jpSswUQA&utm_campaign=yelp_api_v3&utm_medium=api_v3_business_search&utm_source=7XIiaRJ_izN-Q5jpSswUQA\", \"review_count\": 36, \"categories\": [{\"alias\": \"sushi\", \"title\": \"Sushi Bars\"}], \"rating\": 4.0, \"coordinates\": {\"latitude\": 43.65735, \"longitude\": -79.40465}, \"transactions\": [], \"price\": \"$$\", \"location\": {\"address1\": \"370 College St\", \"address2\": \"\", \"address3\": null, \"city\": \"Toronto\", \"zip_code\": \"M5T 1S6\", \"country\": \"CA\", \"state\": \"ON\", \"display_address\": [\"370 College St\", \"Toronto, ON M5T 1S6\", \"Canada\"]}, \"phone\": \"+14165461002\", \"display_phone\": \"+1 416-546-1002\", \"distance\": 1994.7691465279088}, {\"id\": \"AML1zr5Y4R_PjhqAN34quw\", \"alias\": \"bebos-authentic-grill-toronto\", \"name\": \"Bebo's Authentic Grill\", \"image_url\": \"https://s3-media1.fl.yelpcdn.com/bphoto/cQ4sN7vcyyZE8IBgdTxL9A/o.jpg\", \"is_closed\": false, \"url\": \"https://www.yelp.com/biz/bebos-authentic-grill-toronto?adjust_creative=7XIiaRJ_izN-Q5jpSswUQA&utm_campaign=yelp_api_v3&utm_medium=api_v3_business_search&utm_source=7XIiaRJ_izN-Q5jpSswUQA\", \"review_count\": 3, \"categories\": [{\"alias\": \"modern_european\", \"title\": \"Modern European\"}], \"rating\": 4.5, \"coordinates\": {\"latitude\": 43.612076702283, \"longitude\": -79.5416979119182}, \"transactions\": [], \"price\": \"$$\", \"location\": {\"address1\": \"533 Evans Avenue\", \"address2\": \"\", \"address3\": \"\", \"city\": \"Toronto\", \"zip_code\": \"M8W 2V4\", \"country\": \"CA\", \"state\": \"ON\", \"display_address\": [\"533 Evans Avenue\", \"Toronto, ON M8W 2V4\", \"Canada\"]}, \"phone\": \"+16473522400\", \"display_phone\": \"+1 647-352-2400\", \"distance\": 13555.349648923215}, {\"id\": \"CgJddyi3Han1Hu78D0sYsA\", \"alias\": \"koji-japanese-restaurant-toronto\", \"name\": \"Koji Japanese Restaurant\", \"image_url\": \"https://s3-media1.fl.yelpcdn.com/bphoto/FM8GUco1SpbYPVvC_R_5Jg/o.jpg\", \"is_closed\": false, \"url\": \"https://www.yelp.com/biz/koji-japanese-restaurant-toronto?adjust_creative=7XIiaRJ_izN-Q5jpSswUQA&utm_campaign=yelp_api_v3&utm_medium=api_v3_business_search&utm_source=7XIiaRJ_izN-Q5jpSswUQA\", \"review_count\": 35, \"categories\": [{\"alias\": \"sushi\", \"title\": \"Sushi Bars\"}, {\"alias\": \"japanese\", \"title\": \"Japanese\"}], \"rating\": 4.5, \"coordinates\": {\"latitude\": 43.6653247110788, \"longitude\": -79.4528076801096}, \"transactions\": [], \"price\": \"$$\", \"location\": {\"address1\": \"1553 Dupont Street\", \"address2\": \"\", \"address3\": \"\", \"city\": \"Toronto\", \"zip_code\": \"M6P 3S5\", \"country\": \"CA\", \"state\": \"ON\", \"display_address\": [\"1553 Dupont Street\", \"Toronto, ON M6P 3S5\", \"Canada\"]}, \"phone\": \"+14165887426\", \"display_phone\": \"+1 416-588-7426\", \"distance\": 4611.953415283946}, {\"id\": \"LHwzyN5cllTfLuZ8v2k_Bg\", \"alias\": \"le-paradis-brasserie-bistro-toronto\", \"name\": \"Le Paradis Brasserie Bistro\", \"image_url\": \"https://s3-media2.fl.yelpcdn.com/bphoto/bgqKmoeOfQkM45RoVRiIrg/o.jpg\", \"is_closed\": false, \"url\": \"https://www.yelp.com/biz/le-paradis-brasserie-bistro-toronto?adjust_creative=7XIiaRJ_izN-Q5jpSswUQA&utm_campaign=yelp_api_v3&utm_medium=api_v3_business_search&utm_source=7XIiaRJ_izN-Q5jpSswUQA\", \"review_count\": 89, \"categories\": [{\"alias\": \"french\", \"title\": \"French\"}, {\"alias\": \"brasseries\", \"title\": \"Brasseries\"}, {\"alias\": \"wine_bars\", \"title\": \"Wine Bars\"}], \"rating\": 3.5, \"coordinates\": {\"latitude\": 43.67506, \"longitude\": -79.40025}, \"transactions\": [], \"price\": \"$$\", \"location\": {\"address1\": \"166 Bedford Road\", \"address2\": \"\", \"address3\": \"\", \"city\": \"Toronto\", \"zip_code\": \"M5R 2K9\", \"country\": \"CA\", \"state\": \"ON\", \"display_address\": [\"166 Bedford Road\", \"Toronto, ON M5R 2K9\", \"Canada\"]}, \"phone\": \"+14169210995\", \"display_phone\": \"+1 416-921-0995\", \"distance\": 291.0648161618686}, {\"id\": \"V01onLi7ezGFSeoaosfw1g\", \"alias\": \"vs-schnitzel-house-toronto\", \"name\": \"V's Schnitzel House\", \"image_url\": \"https://s3-media2.fl.yelpcdn.com/bphoto/rCApDCuW55H5PcxNdsCgIg/o.jpg\", \"is_closed\": false, \"url\": \"https://www.yelp.com/biz/vs-schnitzel-house-toronto?adjust_creative=7XIiaRJ_izN-Q5jpSswUQA&utm_campaign=yelp_api_v3&utm_medium=api_v3_business_search&utm_source=7XIiaRJ_izN-Q5jpSswUQA\", \"review_count\": 18, \"categories\": [{\"alias\": \"slovakian\", \"title\": \"Slovakian\"}, {\"alias\": \"comfortfood\", \"title\": \"Comfort Food\"}], \"rating\": 3.5, \"coordinates\": {\"latitude\": 43.60222, \"longitude\": -79.5456321}, \"transactions\": [], \"price\": \"$$\", \"location\": {\"address1\": \"448 Browns Line\", \"address2\": null, \"address3\": \"\", \"city\": \"Toronto\", \"zip_code\": \"M8W 3T9\", \"country\": \"CA\", \"state\": \"ON\", \"display_address\": [\"448 Browns Line\", \"Toronto, ON M8W 3T9\", \"Canada\"]}, \"phone\": \"+14162553179\", \"display_phone\": \"+1 416-255-3179\", \"distance\": 14420.908687377521}, {\"id\": \"34OwRFftkT7t3iBquazJcg\", \"alias\": \"avocado-sushi-toronto\", \"name\": \"Avocado Sushi\", \"image_url\": \"https://s3-media2.fl.yelpcdn.com/bphoto/41bRFgWLZsIQdG1KSEZQwQ/o.jpg\", \"is_closed\": false, \"url\": \"https://www.yelp.com/biz/avocado-sushi-toronto?adjust_creative=7XIiaRJ_izN-Q5jpSswUQA&utm_campaign=yelp_api_v3&utm_medium=api_v3_business_search&utm_source=7XIiaRJ_izN-Q5jpSswUQA\", \"review_count\": 54, \"categories\": [{\"alias\": \"japanese\", \"title\": \"Japanese\"}, {\"alias\": \"sushi\", \"title\": \"Sushi Bars\"}], \"rating\": 4.0, \"coordinates\": {\"latitude\": 43.6677895, \"longitude\": -79.3883896}, \"transactions\": [], \"price\": \"$$\", \"location\": {\"address1\": \"1105 Bay Street\", \"address2\": null, \"address3\": \"\", \"city\": \"Toronto\", \"zip_code\": \"M5S 2B3\", \"country\": \"CA\", \"state\": \"ON\", \"display_address\": [\"1105 Bay Street\", \"Toronto, ON M5S 2B3\", \"Canada\"]}, \"phone\": \"+14163239770\", \"display_phone\": \"+1 416-323-9770\", \"distance\": 986.5304172353713}, {\"id\": \"MUjlAtBNJR--7ai5pITbMg\", \"alias\": \"bar-mercurio-toronto\", \"name\": \"Bar Mercurio\", \"image_url\": \"https://s3-media2.fl.yelpcdn.com/bphoto/HXT2fTSG6F-xoFWxm7Jxeg/o.jpg\", \"is_closed\": false, \"url\": \"https://www.yelp.com/biz/bar-mercurio-toronto?adjust_creative=7XIiaRJ_izN-Q5jpSswUQA&utm_campaign=yelp_api_v3&utm_medium=api_v3_business_search&utm_source=7XIiaRJ_izN-Q5jpSswUQA\", \"review_count\": 48, \"categories\": [{\"alias\": \"italian\", \"title\": \"Italian\"}], \"rating\": 3.0, \"coordinates\": {\"latitude\": 43.6674817706316, \"longitude\": -79.4006463811387}, \"transactions\": [], \"price\": \"$$$\", \"location\": {\"address1\": \"270 Bloor Street W\", \"address2\": \"\", \"address3\": \"\", \"city\": \"Toronto\", \"zip_code\": \"M5S 1V8\", \"country\": \"CA\", \"state\": \"ON\", \"display_address\": [\"270 Bloor Street W\", \"Toronto, ON M5S 1V8\", \"Canada\"]}, \"phone\": \"+14169603877\", \"display_phone\": \"+1 416-960-3877\", \"distance\": 816.373950176783}, {\"id\": \"Iw6HDyVxstrPz_r5ydnPXQ\", \"alias\": \"eggstatic-toronto\", \"name\": \"Eggstatic\", \"image_url\": \"https://s3-media1.fl.yelpcdn.com/bphoto/8LcRzbTz6rgZrNcrxTsdqA/o.jpg\", \"is_closed\": false, \"url\": \"https://www.yelp.com/biz/eggstatic-toronto?adjust_creative=7XIiaRJ_izN-Q5jpSswUQA&utm_campaign=yelp_api_v3&utm_medium=api_v3_business_search&utm_source=7XIiaRJ_izN-Q5jpSswUQA\", \"review_count\": 62, \"categories\": [{\"alias\": \"breakfast_brunch\", \"title\": \"Breakfast & Brunch\"}], \"rating\": 4.5, \"coordinates\": {\"latitude\": 43.70549, \"longitude\": -79.37534}, \"transactions\": [], \"price\": \"$$\", \"location\": {\"address1\": \"1568 bayview avenue\", \"address2\": null, \"address3\": \"\", \"city\": \"Toronto\", \"zip_code\": \"M4G 3B7\", \"country\": \"CA\", \"state\": \"ON\", \"display_address\": [\"1568 bayview avenue\", \"Toronto, ON M4G 3B7\", \"Canada\"]}, \"phone\": \"+16473521568\", \"display_phone\": \"+1 647-352-1568\", \"distance\": 3874.8260512949796}, {\"id\": \"_Ss4d4dYzehTmWJGpkqL7w\", \"alias\": \"taste-of-china-toronto\", \"name\": \"Taste of China\", \"image_url\": \"https://s3-media1.fl.yelpcdn.com/bphoto/9stOOGbXJY7fVVqJbUsK4Q/o.jpg\", \"is_closed\": false, \"url\": \"https://www.yelp.com/biz/taste-of-china-toronto?adjust_creative=7XIiaRJ_izN-Q5jpSswUQA&utm_campaign=yelp_api_v3&utm_medium=api_v3_business_search&utm_source=7XIiaRJ_izN-Q5jpSswUQA\", \"review_count\": 116, \"categories\": [{\"alias\": \"chinese\", \"title\": \"Chinese\"}, {\"alias\": \"seafood\", \"title\": \"Seafood\"}], \"rating\": 3.5, \"coordinates\": {\"latitude\": 43.654, \"longitude\": -79.39891}, \"transactions\": [], \"price\": \"$$\", \"location\": {\"address1\": \"338 Spadina Ave\", \"address2\": \"\", \"address3\": \"\", \"city\": \"Toronto\", \"zip_code\": \"M5T 2G2\", \"country\": \"CA\", \"state\": \"ON\", \"display_address\": [\"338 Spadina Ave\", \"Toronto, ON M5T 2G2\", \"Canada\"]}, \"phone\": \"+14163488828\", \"display_phone\": \"+1 416-348-8828\", \"distance\": 2256.5688010508075}, {\"id\": \"-TjzQsimpriXVYaH3HdtQA\", \"alias\": \"the-fanzone-wings-and-ribs-toronto\", \"name\": \"The Fanzone Wings & Ribs\", \"image_url\": \"https://s3-media3.fl.yelpcdn.com/bphoto/EbICYFoAGQlikkQQu6CLyg/o.jpg\", \"is_closed\": false, \"url\": \"https://www.yelp.com/biz/the-fanzone-wings-and-ribs-toronto?adjust_creative=7XIiaRJ_izN-Q5jpSswUQA&utm_campaign=yelp_api_v3&utm_medium=api_v3_business_search&utm_source=7XIiaRJ_izN-Q5jpSswUQA\", \"review_count\": 172, \"categories\": [{\"alias\": \"chicken_wings\", \"title\": \"Chicken Wings\"}, {\"alias\": \"bars\", \"title\": \"Bars\"}, {\"alias\": \"tradamerican\", \"title\": \"American (Traditional)\"}], \"rating\": 4.0, \"coordinates\": {\"latitude\": 43.7530567, \"longitude\": -79.2762336}, \"transactions\": [], \"price\": \"$$\", \"location\": {\"address1\": \"1168 Kennedy Road\", \"address2\": \"\", \"address3\": \"\", \"city\": \"Toronto\", \"zip_code\": \"M1P\", \"country\": \"CA\", \"state\": \"ON\", \"display_address\": [\"1168 Kennedy Road\", \"Toronto, ON M1P\", \"Canada\"]}, \"phone\": \"+14165510415\", \"display_phone\": \"+1 416-551-0415\", \"distance\": 13063.543267128658}], \"total\": 6900, \"region\": {\"center\": {\"longitude\": -79.39682006835938, \"latitude\": 43.67428196976998}}}\n"
     ]
    }
   ],
   "source": [
    "print(response)\n",
    "print(type(response.text))\n",
    "print(response.text)"
   ]
  },
  {
   "cell_type": "code",
   "execution_count": 181,
   "metadata": {},
   "outputs": [],
   "source": [
    "for business in response.json()[\"businesses\"]:\n",
    "    name=business[\"name\"]\n",
    "    Resto_name.append(name)\n",
    "    catg=business[\"categories\"][0][\"title\"]\n",
    "    Food_category.append(catg)\n",
    "    rating=business[\"rating\"]\n",
    "    Resto_rating.append(rating)\n",
    "    lat=business[\"coordinates\"][\"latitude\"]\n",
    "    Lat.append(lat)\n",
    "    long=business[\"coordinates\"][\"longitude\"]\n",
    "    Long.append(long)\n",
    "    addr=business[\"location\"][\"display_address\"][0]\n",
    "    Address.append(addr)\n",
    "    city=business[\"location\"][\"city\"]\n",
    "    City.append(city)\n",
    "    phn=business[\"display_phone\"]\n",
    "    Phone.append(phn)\n",
    "   \n"
   ]
  },
  {
   "cell_type": "code",
   "execution_count": 196,
   "metadata": {},
   "outputs": [
    {
     "data": {
      "text/plain": [
       "1000"
      ]
     },
     "execution_count": 196,
     "metadata": {},
     "output_type": "execute_result"
    }
   ],
   "source": [
    "len(Phone)"
   ]
  },
  {
   "cell_type": "code",
   "execution_count": 183,
   "metadata": {},
   "outputs": [
    {
     "data": {
      "text/plain": [
       "952"
      ]
     },
     "execution_count": 183,
     "metadata": {},
     "output_type": "execute_result"
    }
   ],
   "source": [
    " len(list(set(Resto_name)))"
   ]
  },
  {
   "cell_type": "code",
   "execution_count": 226,
   "metadata": {},
   "outputs": [],
   "source": [
    "food_dict = {'rname': Resto_name, \n",
    "             'fcategory': Food_category,\n",
    "             'Rating': Resto_rating,\n",
    "             'lat': Lat,\n",
    "             'long': Long,\n",
    "             'address':Address,\n",
    "             'city': City,\n",
    "             'phone': Phone\n",
    "             }"
   ]
  },
  {
   "cell_type": "code",
   "execution_count": 227,
   "metadata": {},
   "outputs": [],
   "source": [
    "yelp_df = pd.DataFrame(food_dict)"
   ]
  },
  {
   "cell_type": "code",
   "execution_count": 230,
   "metadata": {},
   "outputs": [],
   "source": [
    "connection_string = \"postgres:Ruhi@localhost:5432/fooddb2\"\n",
    "engine = create_engine(f'postgresql+psycopg2://{connection_string}')"
   ]
  },
  {
   "cell_type": "code",
   "execution_count": 231,
   "metadata": {},
   "outputs": [
    {
     "data": {
      "text/plain": [
       "['yelpdata2']"
      ]
     },
     "execution_count": 231,
     "metadata": {},
     "output_type": "execute_result"
    }
   ],
   "source": [
    "#engine.table_names()\n",
    "inspector = inspect(engine)\n",
    "inspector.get_table_names()"
   ]
  },
  {
   "cell_type": "code",
   "execution_count": 232,
   "metadata": {},
   "outputs": [],
   "source": [
    "yelp_df.to_sql(name='yelpdata1', con=engine, if_exists='append', index=True)"
   ]
  },
  {
   "cell_type": "code",
   "execution_count": 233,
   "metadata": {},
   "outputs": [],
   "source": [
    "# read a table from database into pandas dataframe, replace \"tablename\" with your table name\n",
    "df = pd.read_sql_table('yelpdata1',engine)"
   ]
  },
  {
   "cell_type": "code",
   "execution_count": 234,
   "metadata": {},
   "outputs": [
    {
     "data": {
      "text/html": [
       "<div>\n",
       "<style scoped>\n",
       "    .dataframe tbody tr th:only-of-type {\n",
       "        vertical-align: middle;\n",
       "    }\n",
       "\n",
       "    .dataframe tbody tr th {\n",
       "        vertical-align: top;\n",
       "    }\n",
       "\n",
       "    .dataframe thead th {\n",
       "        text-align: right;\n",
       "    }\n",
       "</style>\n",
       "<table border=\"1\" class=\"dataframe\">\n",
       "  <thead>\n",
       "    <tr style=\"text-align: right;\">\n",
       "      <th></th>\n",
       "      <th>index</th>\n",
       "      <th>rname</th>\n",
       "      <th>fcategory</th>\n",
       "      <th>Rating</th>\n",
       "      <th>lat</th>\n",
       "      <th>long</th>\n",
       "      <th>address</th>\n",
       "      <th>city</th>\n",
       "      <th>phone</th>\n",
       "    </tr>\n",
       "  </thead>\n",
       "  <tbody>\n",
       "    <tr>\n",
       "      <td>0</td>\n",
       "      <td>0</td>\n",
       "      <td>Eataly</td>\n",
       "      <td>Italian</td>\n",
       "      <td>3.5</td>\n",
       "      <td>43.669615</td>\n",
       "      <td>-79.388795</td>\n",
       "      <td>55 Bloor Street W</td>\n",
       "      <td>Toronto</td>\n",
       "      <td>+1 437-374-0250</td>\n",
       "    </tr>\n",
       "    <tr>\n",
       "      <td>1</td>\n",
       "      <td>1</td>\n",
       "      <td>Steam Whistle Brewing</td>\n",
       "      <td>Breweries</td>\n",
       "      <td>4.5</td>\n",
       "      <td>43.641141</td>\n",
       "      <td>-79.385235</td>\n",
       "      <td>255 Bremner Boulevard</td>\n",
       "      <td>Toronto</td>\n",
       "      <td>+1 416-362-2337</td>\n",
       "    </tr>\n",
       "    <tr>\n",
       "      <td>2</td>\n",
       "      <td>2</td>\n",
       "      <td>Taro's Fish</td>\n",
       "      <td>Seafood Markets</td>\n",
       "      <td>4.5</td>\n",
       "      <td>43.769860</td>\n",
       "      <td>-79.374550</td>\n",
       "      <td>800 Sheppard Avenue E</td>\n",
       "      <td>Toronto</td>\n",
       "      <td>+1 416-730-8555</td>\n",
       "    </tr>\n",
       "    <tr>\n",
       "      <td>3</td>\n",
       "      <td>3</td>\n",
       "      <td>Northern Maverick Brewing Co</td>\n",
       "      <td>Brewpubs</td>\n",
       "      <td>3.5</td>\n",
       "      <td>43.645094</td>\n",
       "      <td>-79.402967</td>\n",
       "      <td>115 Bathurst Street</td>\n",
       "      <td>Toronto</td>\n",
       "      <td>+1 416-540-4030</td>\n",
       "    </tr>\n",
       "    <tr>\n",
       "      <td>4</td>\n",
       "      <td>4</td>\n",
       "      <td>Pai Northern Thai Kitchen</td>\n",
       "      <td>Thai</td>\n",
       "      <td>4.5</td>\n",
       "      <td>43.647840</td>\n",
       "      <td>-79.388720</td>\n",
       "      <td>18 Duncan Street</td>\n",
       "      <td>Toronto</td>\n",
       "      <td>+1 416-901-4724</td>\n",
       "    </tr>\n",
       "    <tr>\n",
       "      <td>...</td>\n",
       "      <td>...</td>\n",
       "      <td>...</td>\n",
       "      <td>...</td>\n",
       "      <td>...</td>\n",
       "      <td>...</td>\n",
       "      <td>...</td>\n",
       "      <td>...</td>\n",
       "      <td>...</td>\n",
       "      <td>...</td>\n",
       "    </tr>\n",
       "    <tr>\n",
       "      <td>995</td>\n",
       "      <td>995</td>\n",
       "      <td>Avocado Sushi</td>\n",
       "      <td>Japanese</td>\n",
       "      <td>4.0</td>\n",
       "      <td>43.667789</td>\n",
       "      <td>-79.388390</td>\n",
       "      <td>1105 Bay Street</td>\n",
       "      <td>Toronto</td>\n",
       "      <td>+1 416-323-9770</td>\n",
       "    </tr>\n",
       "    <tr>\n",
       "      <td>996</td>\n",
       "      <td>996</td>\n",
       "      <td>Bar Mercurio</td>\n",
       "      <td>Italian</td>\n",
       "      <td>3.0</td>\n",
       "      <td>43.667482</td>\n",
       "      <td>-79.400646</td>\n",
       "      <td>270 Bloor Street W</td>\n",
       "      <td>Toronto</td>\n",
       "      <td>+1 416-960-3877</td>\n",
       "    </tr>\n",
       "    <tr>\n",
       "      <td>997</td>\n",
       "      <td>997</td>\n",
       "      <td>Eggstatic</td>\n",
       "      <td>Breakfast &amp; Brunch</td>\n",
       "      <td>4.5</td>\n",
       "      <td>43.705490</td>\n",
       "      <td>-79.375340</td>\n",
       "      <td>1568 bayview avenue</td>\n",
       "      <td>Toronto</td>\n",
       "      <td>+1 647-352-1568</td>\n",
       "    </tr>\n",
       "    <tr>\n",
       "      <td>998</td>\n",
       "      <td>998</td>\n",
       "      <td>Taste of China</td>\n",
       "      <td>Chinese</td>\n",
       "      <td>3.5</td>\n",
       "      <td>43.654000</td>\n",
       "      <td>-79.398910</td>\n",
       "      <td>338 Spadina Ave</td>\n",
       "      <td>Toronto</td>\n",
       "      <td>+1 416-348-8828</td>\n",
       "    </tr>\n",
       "    <tr>\n",
       "      <td>999</td>\n",
       "      <td>999</td>\n",
       "      <td>The Fanzone Wings &amp; Ribs</td>\n",
       "      <td>Chicken Wings</td>\n",
       "      <td>4.0</td>\n",
       "      <td>43.753057</td>\n",
       "      <td>-79.276234</td>\n",
       "      <td>1168 Kennedy Road</td>\n",
       "      <td>Toronto</td>\n",
       "      <td>+1 416-551-0415</td>\n",
       "    </tr>\n",
       "  </tbody>\n",
       "</table>\n",
       "<p>1000 rows × 9 columns</p>\n",
       "</div>"
      ],
      "text/plain": [
       "     index                         rname           fcategory  Rating  \\\n",
       "0        0                        Eataly             Italian     3.5   \n",
       "1        1         Steam Whistle Brewing           Breweries     4.5   \n",
       "2        2                   Taro's Fish     Seafood Markets     4.5   \n",
       "3        3  Northern Maverick Brewing Co            Brewpubs     3.5   \n",
       "4        4     Pai Northern Thai Kitchen                Thai     4.5   \n",
       "..     ...                           ...                 ...     ...   \n",
       "995    995                 Avocado Sushi            Japanese     4.0   \n",
       "996    996                  Bar Mercurio             Italian     3.0   \n",
       "997    997                     Eggstatic  Breakfast & Brunch     4.5   \n",
       "998    998                Taste of China             Chinese     3.5   \n",
       "999    999      The Fanzone Wings & Ribs       Chicken Wings     4.0   \n",
       "\n",
       "           lat       long                address     city            phone  \n",
       "0    43.669615 -79.388795      55 Bloor Street W  Toronto  +1 437-374-0250  \n",
       "1    43.641141 -79.385235  255 Bremner Boulevard  Toronto  +1 416-362-2337  \n",
       "2    43.769860 -79.374550  800 Sheppard Avenue E  Toronto  +1 416-730-8555  \n",
       "3    43.645094 -79.402967    115 Bathurst Street  Toronto  +1 416-540-4030  \n",
       "4    43.647840 -79.388720       18 Duncan Street  Toronto  +1 416-901-4724  \n",
       "..         ...        ...                    ...      ...              ...  \n",
       "995  43.667789 -79.388390        1105 Bay Street  Toronto  +1 416-323-9770  \n",
       "996  43.667482 -79.400646     270 Bloor Street W  Toronto  +1 416-960-3877  \n",
       "997  43.705490 -79.375340    1568 bayview avenue  Toronto  +1 647-352-1568  \n",
       "998  43.654000 -79.398910        338 Spadina Ave  Toronto  +1 416-348-8828  \n",
       "999  43.753057 -79.276234      1168 Kennedy Road  Toronto  +1 416-551-0415  \n",
       "\n",
       "[1000 rows x 9 columns]"
      ]
     },
     "execution_count": 234,
     "metadata": {},
     "output_type": "execute_result"
    }
   ],
   "source": [
    "df"
   ]
  },
  {
   "cell_type": "code",
   "execution_count": 235,
   "metadata": {},
   "outputs": [],
   "source": [
    "df.to_csv('data\\yelp.csv')"
   ]
  },
  {
   "cell_type": "code",
   "execution_count": null,
   "metadata": {},
   "outputs": [],
   "source": []
  }
 ],
 "metadata": {
  "kernelspec": {
   "display_name": "Python 3",
   "language": "python",
   "name": "python3"
  },
  "language_info": {
   "codemirror_mode": {
    "name": "ipython",
    "version": 3
   },
   "file_extension": ".py",
   "mimetype": "text/x-python",
   "name": "python",
   "nbconvert_exporter": "python",
   "pygments_lexer": "ipython3",
   "version": "3.6.9"
  },
  "nteract": {
   "version": "0.12.3"
  }
 },
 "nbformat": 4,
 "nbformat_minor": 2
}
